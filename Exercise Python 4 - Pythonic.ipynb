{
 "cells": [
  {
   "cell_type": "markdown",
   "id": "1b8609c5",
   "metadata": {},
   "source": [
    "## Channel Indonesia Belajar - Pythonic"
   ]
  },
  {
   "cell_type": "markdown",
   "id": "bc0e4858",
   "metadata": {},
   "source": [
    "### Pythonic 01 - Pertukaran nilai antar 2 variabel"
   ]
  },
  {
   "cell_type": "code",
   "execution_count": 5,
   "id": "0dfa2e7b",
   "metadata": {},
   "outputs": [
    {
     "name": "stdout",
     "output_type": "stream",
     "text": [
      "Sebelum pertukaran\n",
      "a=10, b=20\n",
      "Setelah pertukaran\n",
      "a=20, b=10\n",
      "\n",
      "Sebelum pertukaran\n",
      "a=10, b=20\n",
      "Setelah pertukaran\n",
      "a=20, b=10\n",
      "\n",
      "Sebelum pertukaran\n",
      "a=10, b=20, c=30, d=40, c=50\n",
      "Setelah pertukaran\n",
      "a=20, b=50, c=10, d=30, c=40\n"
     ]
    }
   ],
   "source": [
    "a = 10\n",
    "b = 20\n",
    "print('Sebelum pertukaran')\n",
    "print(f'a={a}, b={b}')\n",
    "c = a\n",
    "a = b\n",
    "b = c\n",
    "print('Setelah pertukaran')\n",
    "print(f'a={a}, b={b}')\n",
    "\n",
    "# Cara lebih pythonic -- Mekanisme auto unpacking\n",
    "a, b = 10, 20\n",
    "print('\\nSebelum pertukaran')\n",
    "print(f'a={a}, b={b}')\n",
    "a, b = b, a\n",
    "print('Setelah pertukaran')\n",
    "print(f'a={a}, b={b}')\n",
    "\n",
    "# Lebih dari banyak variable\n",
    "a, b, c, d, e = 10, 20, 30, 40, 50\n",
    "print('\\nSebelum pertukaran')\n",
    "print(f'a={a}, b={b}, c={c}, d={d}, e={e}')\n",
    "a, b, c, d, e = b, e, a, c, d\n",
    "print('Setelah pertukaran')\n",
    "print(f'a={a}, b={b}, c={c}, d={d}, e={e}')"
   ]
  },
  {
   "cell_type": "markdown",
   "id": "7553a927",
   "metadata": {},
   "source": [
    "### Pythonic 02 - Pembandingan Berantai"
   ]
  },
  {
   "cell_type": "code",
   "execution_count": 8,
   "id": "21fc5a10",
   "metadata": {},
   "outputs": [
    {
     "name": "stdout",
     "output_type": "stream",
     "text": [
      "True\n",
      "True\n"
     ]
    }
   ],
   "source": [
    "# Cara Konvensional\n",
    "a = 25\n",
    "print((a >= 20) and (a <=30))\n",
    "\n",
    "# Cara lebih pythonic - Chain Comparison\n",
    "\n",
    "print((20<=a<=30))"
   ]
  },
  {
   "cell_type": "markdown",
   "id": "1a7f1f30",
   "metadata": {},
   "source": [
    "### Pythonic 03 - Packing Sekumpulan nilai dalam List"
   ]
  },
  {
   "cell_type": "code",
   "execution_count": 51,
   "id": "85df8cb8",
   "metadata": {},
   "outputs": [
    {
     "name": "stdout",
     "output_type": "stream",
     "text": [
      "a=10, b=20, c=30\n",
      "d=[10, 20, 30]\n",
      "\n",
      "a=10, b=20, c=30\n",
      "d=[10, 20, 30]\n"
     ]
    }
   ],
   "source": [
    "# Cara Konvensional\n",
    "a = 10\n",
    "b = 20\n",
    "c = 30\n",
    "d = [None]*3\n",
    "d[0] = a\n",
    "d[1] = b\n",
    "d[2] = c\n",
    "print(f'a={a}, b={b}, c={c}')\n",
    "print(f'd={d}')\n",
    "# Cara Pythonic\n",
    "a, b, c = 10, 20, 30\n",
    "d = [a, b ,c]\n",
    "print(f'\\na={a}, b={b}, c={c}')\n",
    "print(f'd={d}') # Default menjadi tuple"
   ]
  },
  {
   "cell_type": "markdown",
   "id": "9b10886a",
   "metadata": {},
   "source": [
    "### Pythonic 04 - Unpacking Sekumpulan nilai dalam List"
   ]
  },
  {
   "cell_type": "code",
   "execution_count": 52,
   "id": "082904cb",
   "metadata": {},
   "outputs": [
    {
     "name": "stdout",
     "output_type": "stream",
     "text": [
      "listku=[10, 20, 30]\n",
      "a=10,b=20,c=30\n",
      "\n",
      "listku=[10, 20, 30]\n",
      "a=10,b=20,c=30\n"
     ]
    }
   ],
   "source": [
    "# Cara Konvensional\n",
    "listku = [10,20,30]\n",
    "a = listku[0]\n",
    "b = listku[1]\n",
    "c = listku[2]\n",
    "print(f'listku={listku}')\n",
    "print(f'a={a},b={b},c={c}')\n",
    "# Cara Pythonic\n",
    "listku = [10,20,30]\n",
    "a, b, c = listku\n",
    "print(f'\\nlistku={listku}')\n",
    "print(f'a={a},b={b},c={c}')"
   ]
  },
  {
   "cell_type": "markdown",
   "id": "16c8e8db",
   "metadata": {},
   "source": [
    "### Pythonic 05 - Tips Perulangan For Loop"
   ]
  },
  {
   "cell_type": "code",
   "execution_count": 53,
   "id": "4ec4b0dc",
   "metadata": {},
   "outputs": [
    {
     "name": "stdout",
     "output_type": "stream",
     "text": [
      "10\n",
      "20\n",
      "30\n",
      "\n",
      "\n",
      "10\n",
      "20\n",
      "30\n"
     ]
    }
   ],
   "source": [
    "# Cara konvensional\n",
    "listku = [10,20,30]\n",
    "for i in range(len(listku)):\n",
    "    print(f'{listku[i]}')\n",
    "\n",
    "print('\\n')\n",
    "# Cara pythonic\n",
    "listku = [10,20,30]\n",
    "for item in listku:\n",
    "    print(f'{item}')"
   ]
  },
  {
   "cell_type": "markdown",
   "id": "809e140b",
   "metadata": {},
   "source": [
    "### Pythonic 06 - Fungsi Enumerate"
   ]
  },
  {
   "cell_type": "code",
   "execution_count": 54,
   "id": "381a11d4",
   "metadata": {},
   "outputs": [
    {
     "name": "stdout",
     "output_type": "stream",
     "text": [
      "001--bejo\n",
      "002--karti\n",
      "003--tejo\n",
      "001--bejo\n",
      "002--karti\n",
      "003--tejo\n"
     ]
    }
   ],
   "source": [
    "# Cara konvensional\n",
    "nim = ['001','002','003']\n",
    "nama = ['bejo','karti','tejo']\n",
    "for i in range(len(nim)):\n",
    "    print(f'{nim[i]}--{nama[i]}')\n",
    "    \n",
    "# Cara Pythonic\n",
    "for i, data_nim in enumerate(nim):\n",
    "    print(f'{data_nim}--{nama[i]}')"
   ]
  },
  {
   "cell_type": "markdown",
   "id": "315f095a",
   "metadata": {},
   "source": [
    "### Pythonic 07 - Fungsi Zip pada For Loop"
   ]
  },
  {
   "cell_type": "code",
   "execution_count": 55,
   "id": "378580aa",
   "metadata": {},
   "outputs": [
    {
     "name": "stdout",
     "output_type": "stream",
     "text": [
      "001--bejo\n",
      "002--karti\n",
      "003--tejo\n",
      "001--bejo--Makan\n",
      "002--karti--Nyanyi\n",
      "003--tejo--Tidur\n"
     ]
    }
   ],
   "source": [
    "# Cara Enumerate dengan Nama\n",
    "nim = ['001','002','003']\n",
    "nama = ['bejo','karti','tejo']\n",
    "hobi = ['Makan','Nyanyi','Tidur']\n",
    "for i, data_nama in enumerate(nama):\n",
    "    print(f'{nim[i]}--{data_nama}')\n",
    "# Cara Pythonic dengan zip - tanpa index\n",
    "for d_nim, d_nama, d_hobi in zip(nim, nama, hobi):\n",
    "    print(f'{d_nim}--{d_nama}--{d_hobi}')"
   ]
  },
  {
   "cell_type": "markdown",
   "id": "c47b396c",
   "metadata": {},
   "source": [
    "### Pythonic 08 - Fungsi Map"
   ]
  },
  {
   "cell_type": "code",
   "execution_count": 56,
   "id": "e41ef7af",
   "metadata": {},
   "outputs": [
    {
     "name": "stdout",
     "output_type": "stream",
     "text": [
      "listku:[10, 20, 30]\n",
      "listmu:[20, 40, 60]\n",
      "listku:[10, 20, 30]\n",
      "listmu:[20, 40, 60]\n"
     ]
    }
   ],
   "source": [
    "# Cara Konvensional\n",
    "def lipat_ganda(x):\n",
    "    return x*2\n",
    "\n",
    "listku = [10,20,30]\n",
    "listmu = []\n",
    "for item in listku:\n",
    "    listmu.append(lipat_ganda(item))\n",
    "\n",
    "print(f'listku:{listku}')\n",
    "print(f'listmu:{listmu}')\n",
    "                  \n",
    "# Cara pythonic dengan map\n",
    "listmu = list(map(lipat_ganda,listku))\n",
    "print(f'listku:{listku}')\n",
    "print(f'listmu:{listmu}')"
   ]
  },
  {
   "cell_type": "markdown",
   "id": "2acf837c",
   "metadata": {},
   "source": [
    "### Pythonic 09 - Ekspresi Lamda"
   ]
  },
  {
   "cell_type": "code",
   "execution_count": 57,
   "id": "ded86a45",
   "metadata": {},
   "outputs": [
    {
     "name": "stdout",
     "output_type": "stream",
     "text": [
      "listku:[10, 20, 30]\n",
      "listmu:[20, 40, 60]\n",
      "listku:[10, 20, 30]\n",
      "listmu:[20, 40, 60]\n"
     ]
    }
   ],
   "source": [
    "# Cara dengan Map\n",
    "def lipat_ganda(x):\n",
    "    return x*2\n",
    "\n",
    "listku = [10,20,30]\n",
    "listmu = list(map(lipat_ganda,listku))\n",
    "print(f'listku:{listku}')\n",
    "print(f'listmu:{listmu}')\n",
    "\n",
    "# Cara pythonic dengan ekspresi lamda\n",
    "listku = [10,20,30]\n",
    "listmu = list(map(lambda x : x*2,listku))\n",
    "print(f'listku:{listku}')\n",
    "print(f'listmu:{listmu}')"
   ]
  },
  {
   "cell_type": "markdown",
   "id": "b7dc0b46",
   "metadata": {},
   "source": [
    "### Pythonic 10 - List Comprehension"
   ]
  },
  {
   "cell_type": "code",
   "execution_count": 58,
   "id": "e92ae938",
   "metadata": {},
   "outputs": [
    {
     "name": "stdout",
     "output_type": "stream",
     "text": [
      "listku=[1, 2, 3, 4, 5, 6, 7, 8, 9, 10, 11, 12, 13, 14, 15, 16, 17, 18, 19, 20, 21, 22, 23, 24, 25, 26, 27, 28, 29, 30, 31, 32, 33, 34, 35, 36, 37, 38, 39, 40, 41, 42, 43, 44, 45, 46, 47, 48, 49, 50]\n",
      "listu=[1, 2, 3, 4, 5, 6, 7, 8, 9, 10, 11, 12, 13, 14, 15, 16, 17, 18, 19, 20, 21, 22, 23, 24, 25, 26, 27, 28, 29, 30, 31, 32, 33, 34, 35, 36, 37, 38, 39, 40, 41, 42, 43, 44, 45, 46, 47, 48, 49, 50]\n"
     ]
    }
   ],
   "source": [
    "# Cara konvensional\n",
    "listku = []\n",
    "for i in range(1,51):\n",
    "    listku.append(i)\n",
    "print(f'listku={listku}')\n",
    "\n",
    "# Cara Pythonic\n",
    "listmu = [i for i in range(1,51)]\n",
    "print(f'listu={listmu}')"
   ]
  },
  {
   "cell_type": "markdown",
   "id": "0486d062",
   "metadata": {},
   "source": [
    "### Pythonic 11 - Memadukan List Comprehension dan Conditional If"
   ]
  },
  {
   "cell_type": "code",
   "execution_count": 49,
   "id": "03f57f8c",
   "metadata": {},
   "outputs": [
    {
     "name": "stdout",
     "output_type": "stream",
     "text": [
      "listmu=[30, 60, 10, 55]\n",
      "listku=[60, 55]\n",
      "listmu=[30, 60, 10, 55]\n",
      "listku=[60, 55]\n"
     ]
    }
   ],
   "source": [
    "# Cara Konvensional\n",
    "listmu = [30,60,10,55]\n",
    "listku = []\n",
    "for item in listmu:\n",
    "    if item > 50:\n",
    "        listku.append(item)\n",
    "\n",
    "print(f'listmu={listmu}')\n",
    "print(f'listku={listku}')\n",
    "\n",
    "# Cara pythonic\n",
    "listmu = [30,60,10,55]\n",
    "listku = [i for i in listmu if i>50]\n",
    "print(f'listmu={listmu}')\n",
    "print(f'listku={listku}')"
   ]
  },
  {
   "cell_type": "markdown",
   "id": "d9c12030",
   "metadata": {},
   "source": [
    "### Pythonic 12 - Memadukan List Comprehension dan Fungi Zip"
   ]
  },
  {
   "cell_type": "code",
   "execution_count": 60,
   "id": "3b2d2ac7",
   "metadata": {},
   "outputs": [
    {
     "name": "stdout",
     "output_type": "stream",
     "text": [
      "listku=[['bejo', '23'], ['karti', '31'], ['tejo', '26']]\n",
      "listku=[['bejo', '23'], ['karti', '31'], ['tejo', '26']]\n"
     ]
    }
   ],
   "source": [
    "# Cara konvensional\n",
    "nama = ['bejo','karti','tejo']\n",
    "usia = ['23','31','26']\n",
    "listku = []\n",
    "for i in range(len(nama)):\n",
    "    listku.append([nama[i],usia[i]])\n",
    "print(f'listku={listku}')\n",
    "# Cara pythonic\n",
    "listku = [ [d_nama, d_usia] for d_nama,d_usia in zip(nama,usia)]\n",
    "print(f'listku={listku}')"
   ]
  },
  {
   "cell_type": "markdown",
   "id": "98f52b1b",
   "metadata": {},
   "source": [
    "### Pythonic 13 - Mengenal Slicing pada List & String"
   ]
  },
  {
   "cell_type": "code",
   "execution_count": 65,
   "id": "d2f8f7bd",
   "metadata": {},
   "outputs": [
    {
     "name": "stdout",
     "output_type": "stream",
     "text": [
      "listku:[30, 40, 50]\n",
      "listku:[30, 40, 50]\n",
      "BELAJAR\n"
     ]
    }
   ],
   "source": [
    "# Cara Konvensional -- pada list\n",
    "listmu = [10,20,30,40,50]\n",
    "listku = []\n",
    "for i in range(2,5):\n",
    "    listku.append(listmu[i])\n",
    "\n",
    "print(f'listku:{listku}')\n",
    "\n",
    "# Cara pythonic -- pada list\n",
    "listmu = [10,20,30,40,50]\n",
    "listku = listmu[2:5:1] # [start,stop,step]\n",
    "print(f'listku:{listku}')\n",
    "\n",
    "# Cara pythonic -- pada string\n",
    "kata = 'PEMBELAJARAN'\n",
    "print(kata[3:10])\n"
   ]
  },
  {
   "cell_type": "markdown",
   "id": "231c0edd",
   "metadata": {},
   "source": [
    "### Pythonic 14 - Membalikkan Urutan List dan String"
   ]
  },
  {
   "cell_type": "code",
   "execution_count": 70,
   "id": "232b3211",
   "metadata": {},
   "outputs": [
    {
     "name": "stdout",
     "output_type": "stream",
     "text": [
      "listmu:[10, 20, 30, 40, 50, 60]\n",
      "listku:[60, 50, 40, 30, 20, 10]\n",
      "listmu:[10, 20, 30, 40, 50, 60]\n",
      "listku:[60, 50, 40, 30, 20, 10]\n",
      "RAJALEB\n"
     ]
    }
   ],
   "source": [
    "# Cara konvensional - list\n",
    "listmu = [10,20,30,40,50,60]\n",
    "listku = []\n",
    "for i in range(len(listmu)):\n",
    "    reverse_i = len(listmu)-1-i\n",
    "    listku.append(listmu[reverse_i])\n",
    "print(f'listmu:{listmu}')\n",
    "print(f'listku:{listku}')\n",
    "\n",
    "# Cara pythonic - list\n",
    "listmu = [10,20,30,40,50,60]\n",
    "listku = listmu[::-1]\n",
    "print(f'listmu:{listmu}')\n",
    "print(f'listku:{listku}')\n",
    "\n",
    "# Cara pythonic - string\n",
    "kata = 'BELAJAR'\n",
    "print(kata[::-1])"
   ]
  },
  {
   "cell_type": "markdown",
   "id": "5444a6af",
   "metadata": {},
   "source": [
    "### Pythonic 15 - Memecah Sekumpulan Kata dalam Kalimat ke dalam List"
   ]
  },
  {
   "cell_type": "code",
   "execution_count": 75,
   "id": "c01da765",
   "metadata": {},
   "outputs": [
    {
     "name": "stdout",
     "output_type": "stream",
     "text": [
      "teks: belajar python dasar\n",
      "listku: ['belajar', 'python', 'dasar']\n",
      "teks: belajar python dasar\n",
      "listku: ['belajar', 'python', 'dasar']\n"
     ]
    }
   ],
   "source": [
    "# Cara Konvensional\n",
    "teks = 'belajar python dasar'\n",
    "listku = []\n",
    "kata = ''\n",
    "for huruf in teks:\n",
    "    if huruf != ' ':\n",
    "        kata += huruf\n",
    "    else:\n",
    "        listku.append(kata)\n",
    "        kata = ''\n",
    "listku.append(kata)\n",
    "print(f'teks: {teks}')    \n",
    "print(f'listku: {listku}')\n",
    "\n",
    "# Cara pythonic\n",
    "list = teks.split()\n",
    "print(f'teks: {teks}')    \n",
    "print(f'listku: {listku}')"
   ]
  },
  {
   "cell_type": "markdown",
   "id": "c7528cd3",
   "metadata": {},
   "source": [
    "### Pythonic 16 - Menggabungkan Sekumpulan Kata Menjadi Kalimat"
   ]
  },
  {
   "cell_type": "code",
   "execution_count": 78,
   "id": "7c844b5d",
   "metadata": {},
   "outputs": [
    {
     "name": "stdout",
     "output_type": "stream",
     "text": [
      "listku:['belajar', 'python', 'dasar']\n",
      "kalimat:belajar python dasar \n",
      "listku:['belajar', 'python', 'dasar']\n",
      "kalimat:belajar python dasar\n"
     ]
    }
   ],
   "source": [
    "# Cara Konvensional\n",
    "listku = ['belajar','python','dasar']\n",
    "kalimat = ''\n",
    "for kata in listku:\n",
    "    kalimat += kata + ' '\n",
    "print(f'listku:{listku}')\n",
    "print(f'kalimat:{kalimat}')\n",
    "\n",
    "# Cara pythonic\n",
    "listku = ['belajar','python','dasar']\n",
    "kalimat = ' '.join(listku)\n",
    "print(f'listku:{listku}')\n",
    "print(f'kalimat:{kalimat}')"
   ]
  },
  {
   "cell_type": "markdown",
   "id": "1ca978f8",
   "metadata": {},
   "source": [
    "### Pythonic 17 - Pemanggilan Fungsi Berantai"
   ]
  },
  {
   "cell_type": "code",
   "execution_count": 83,
   "id": "99a9decf",
   "metadata": {},
   "outputs": [
    {
     "name": "stdout",
     "output_type": "stream",
     "text": [
      "Hasil: 30\n",
      "Hasil: 30\n"
     ]
    }
   ],
   "source": [
    "# Cara konvensional\n",
    "def tambah (a,b):\n",
    "    return a+b\n",
    "def kali (a,b):\n",
    "    return a*b\n",
    "\n",
    "x,y =10,20\n",
    "kondisi = True\n",
    "if kondisi:\n",
    "    hasil = tambah(x, y)\n",
    "else:\n",
    "    hasil = kali(x,y)\n",
    "print(f'Hasil: {hasil}')\n",
    "\n",
    "# Cara pythonic\n",
    "hasil = (tambah if kondisi else kali)(x,y)\n",
    "print(f'Hasil: {hasil}')"
   ]
  },
  {
   "cell_type": "markdown",
   "id": "029055c2",
   "metadata": {},
   "source": [
    "### Pythonic 18 - Percabangan dengan Dictionary (Switch Case)"
   ]
  },
  {
   "cell_type": "code",
   "execution_count": 88,
   "id": "d4d0ded2",
   "metadata": {},
   "outputs": [
    {
     "name": "stdout",
     "output_type": "stream",
     "text": [
      "dua-two\n",
      "dua-two\n"
     ]
    }
   ],
   "source": [
    "# Cara konvensional\n",
    "def one():\n",
    "    print('satu-one')\n",
    "\n",
    "def two():\n",
    "    print('dua-two')\n",
    "    \n",
    "def three():\n",
    "    print('tiga-three')\n",
    "    \n",
    "case = 'dua'\n",
    "if case == 'satu':\n",
    "    one()\n",
    "elif case == 'dua':\n",
    "    two()\n",
    "elif case == 'tiga':\n",
    "    three()\n",
    "    \n",
    "# Cara pythonic\n",
    "switch = {\n",
    "    'satu':one,\n",
    "    'dua':two,\n",
    "    'tiga':three,\n",
    "}\n",
    "switch[case]()"
   ]
  },
  {
   "cell_type": "markdown",
   "id": "36b5dc96",
   "metadata": {},
   "source": [
    "### Pythonic 19 -  Tips Penggabungan List"
   ]
  },
  {
   "cell_type": "code",
   "execution_count": 93,
   "id": "ddb1321c",
   "metadata": {},
   "outputs": [
    {
     "name": "stdout",
     "output_type": "stream",
     "text": [
      "list c berisi :[10, 20, 30, 40, 50, 70]\n",
      "list c berisi :[10, 20, 30, 40, 50, 70]\n",
      "list c berisi :[10, 'budi', 30.55, False, 50, 'wati']\n"
     ]
    }
   ],
   "source": [
    "# Cara konvensional\n",
    "a = [10,20,30]\n",
    "b = [40,50,70]\n",
    "c = [None]*(len(a)+len(b))\n",
    "for i in range(len(a)):\n",
    "    c[i] = a[i]\n",
    "for i in range(len(b)):\n",
    "    c[i+len(a)] = b[i]\n",
    "print(f'list c berisi :{c}')\n",
    "\n",
    "# Cara pyhtonic\n",
    "c = a + b # list termasuk sequence data type yang dapat menampung nilai dengan type data yang tidak beragam\n",
    "print(f'list c berisi :{c}')\n",
    "\n",
    "# Contoh\n",
    "a = [10, 'budi', 30.55]\n",
    "b = [False, 50, 'wati']\n",
    "c = a + b\n",
    "print(f'list c berisi :{c}')"
   ]
  },
  {
   "cell_type": "markdown",
   "id": "c580f76f",
   "metadata": {},
   "source": [
    "### Pythonic 20 -  Mengenal Ekspresi Ternary"
   ]
  },
  {
   "cell_type": "code",
   "execution_count": 96,
   "id": "2a98e9cb",
   "metadata": {},
   "outputs": [
    {
     "name": "stdout",
     "output_type": "stream",
     "text": [
      "a bernilai negatif\n",
      "a bernilai negatif\n"
     ]
    }
   ],
   "source": [
    "# Cara konvensional\n",
    "a = -10 \n",
    "if a < 0:\n",
    "    b = 'negatif'\n",
    "else:\n",
    "    b = 'positif'\n",
    "print(f'a bernilai {b}')\n",
    "\n",
    "# Cara pyhtonic \n",
    "b = 'negatif' if a < 0 else 'positif'\n",
    "print(f'a bernilai {b}')"
   ]
  },
  {
   "cell_type": "markdown",
   "id": "1bd50794",
   "metadata": {},
   "source": [
    "### Pythonic 21 -  Mengabaikan Nilai dengan Underscore"
   ]
  },
  {
   "cell_type": "code",
   "execution_count": 100,
   "id": "e3b4e7bf",
   "metadata": {},
   "outputs": [
    {
     "name": "stdout",
     "output_type": "stream",
     "text": [
      "Pemrograman dasar\n",
      "Pemrograman dasar\n",
      "Pemrograman dasar\n",
      "Pemrograman dasar\n",
      "Pemrograman dasar\n",
      "Pemrograman dasar\n",
      "listku: [10, 20, 30, 40, 50]\n",
      "a:10,b:20\n",
      "listku: [10, 20, 30, 40, 50]\n",
      "a:40,b:50\n"
     ]
    }
   ],
   "source": [
    "# Cara konvensional\n",
    "for i in range (3):\n",
    "    print('Pemrograman dasar')\n",
    "# Cara pythonic\n",
    "for _ in range (3):\n",
    "    print('Pemrograman dasar')\n",
    "# Contoh lain\n",
    "listku = [10,20,30,40,50]\n",
    "a, b, *_ = listku\n",
    "print(f'listku: {listku}')\n",
    "print(f'a:{a},b:{b}')\n",
    "# Belakang'\n",
    "*_, a, b = listku\n",
    "print(f'listku: {listku}')\n",
    "print(f'a:{a},b:{b}')"
   ]
  },
  {
   "cell_type": "markdown",
   "id": "03655901",
   "metadata": {},
   "source": [
    "### Pythonic 22 -  Mengenal Operator IN untuk Memeriksa Keradaan suatu Nilai dalam List"
   ]
  },
  {
   "cell_type": "code",
   "execution_count": 104,
   "id": "6b7e5c00",
   "metadata": {},
   "outputs": [
    {
     "name": "stdout",
     "output_type": "stream",
     "text": [
      "ditemukan\n",
      "ditemukan\n"
     ]
    }
   ],
   "source": [
    "# Cara konvensional\n",
    "listku = [10,20,30,40,50]\n",
    "cari = 50\n",
    "ketemu = False\n",
    "for item in listku:\n",
    "    if item == cari:\n",
    "        ketemu = True\n",
    "        break\n",
    "if ketemu:\n",
    "    print('ditemukan')\n",
    "else:\n",
    "    print('tidak ditemukan')\n",
    "    \n",
    "# Cara pyhtonic\n",
    "if cari in listku:\n",
    "    print('ditemukan')\n",
    "else:\n",
    "    print('tidak ditemukan')"
   ]
  },
  {
   "cell_type": "markdown",
   "id": "dee1535b",
   "metadata": {},
   "source": [
    "### Pythonic 23 -  Membuat Fungsi dengan Sekumpulan Nilai Kembalian"
   ]
  },
  {
   "cell_type": "code",
   "execution_count": 107,
   "id": "0a07428e",
   "metadata": {},
   "outputs": [
    {
     "name": "stdout",
     "output_type": "stream",
     "text": [
      "hasil1: 007\n",
      "hasil1: asep\n",
      "hasil1: 1.25\n",
      "hasil1: 007\n",
      "hasil1: asep\n",
      "hasil1: 1.25\n"
     ]
    }
   ],
   "source": [
    "# Cara konvensional\n",
    "def fungsiku():\n",
    "    nim = '007'\n",
    "    nama = 'asep'\n",
    "    ipk = 1.25\n",
    "    siswa = (nim, nama, ipk)\n",
    "    return siswa\n",
    "hasil = fungsiku()\n",
    "print(f'hasil1: {hasil[0]}')\n",
    "print(f'hasil1: {hasil[1]}')\n",
    "print(f'hasil1: {hasil[2]}')\n",
    "\n",
    "# Cara pythonic\n",
    "def fungsiku():\n",
    "    nim = '007'\n",
    "    nama = 'asep'\n",
    "    ipk = 1.25\n",
    "    return nim, nama, ipk\n",
    "a, b, c = fungsiku()\n",
    "\n",
    "print(f'hasil1: {a}')\n",
    "print(f'hasil1: {b}')\n",
    "print(f'hasil1: {c}')"
   ]
  },
  {
   "cell_type": "markdown",
   "id": "7c993f2c",
   "metadata": {},
   "source": [
    "### Pythonic 24 -  Mengenal Fungsi Zip untuk Menyatukan Sekumpulan List yang Berkorelasi"
   ]
  },
  {
   "cell_type": "code",
   "execution_count": 126,
   "id": "3b0d8eb3",
   "metadata": {},
   "outputs": [
    {
     "name": "stdout",
     "output_type": "stream",
     "text": [
      "siswa : [('001', 'bejo', 3.25), ('002', 'karti', 2.33), ('003', 'tejo', 1.88)]\n"
     ]
    },
    {
     "ename": "TypeError",
     "evalue": "list indices must be integers or slices, not zip",
     "output_type": "error",
     "traceback": [
      "\u001b[1;31m---------------------------------------------------------------------------\u001b[0m",
      "\u001b[1;31mTypeError\u001b[0m                                 Traceback (most recent call last)",
      "\u001b[1;32m~\\AppData\\Local\\Temp/ipykernel_21748/2600702523.py\u001b[0m in \u001b[0;36m<module>\u001b[1;34m\u001b[0m\n\u001b[0;32m      9\u001b[0m \u001b[1;33m\u001b[0m\u001b[0m\n\u001b[0;32m     10\u001b[0m \u001b[1;31m# Cara pythonic\u001b[0m\u001b[1;33m\u001b[0m\u001b[1;33m\u001b[0m\u001b[0m\n\u001b[1;32m---> 11\u001b[1;33m \u001b[0msiswa2\u001b[0m \u001b[1;33m=\u001b[0m \u001b[0mlist\u001b[0m\u001b[1;33m[\u001b[0m\u001b[0mzip\u001b[0m\u001b[1;33m(\u001b[0m\u001b[0mnim\u001b[0m\u001b[1;33m,\u001b[0m \u001b[0mnama\u001b[0m\u001b[1;33m,\u001b[0m \u001b[0mipk\u001b[0m\u001b[1;33m)\u001b[0m\u001b[1;33m]\u001b[0m\u001b[1;33m\u001b[0m\u001b[1;33m\u001b[0m\u001b[0m\n\u001b[0m\u001b[0;32m     12\u001b[0m \u001b[0mprint\u001b[0m\u001b[1;33m(\u001b[0m\u001b[1;34mf'siswa : {siswa2}'\u001b[0m\u001b[1;33m)\u001b[0m\u001b[1;33m\u001b[0m\u001b[1;33m\u001b[0m\u001b[0m\n",
      "\u001b[1;31mTypeError\u001b[0m: list indices must be integers or slices, not zip"
     ]
    }
   ],
   "source": [
    "# Cara konvensional\n",
    "nim = ['001','002','003']\n",
    "nama = ['bejo','karti','tejo']\n",
    "ipk = [3.25,2.33,1.88]\n",
    "siswa = []\n",
    "for i in range(len(nim)):\n",
    "    siswa.append((nim[i],nama[i],ipk[i]))\n",
    "print(f'siswa : {siswa}')\n",
    "\n",
    "# Cara pythonic\n",
    "siswa2 = list(zip(nim, nama, ipk)) #terdapat error karena diatas sudah terdapat list yang di assign\n",
    "print(f'siswa : {siswa2}')"
   ]
  },
  {
   "cell_type": "markdown",
   "id": "df6a36ae",
   "metadata": {},
   "source": [
    "### Pythonic 25 -  Mengenal Fungsi Unzip untuk Memecah Sekumpulan Nilai pada List ke Beberapa Variabel"
   ]
  },
  {
   "cell_type": "code",
   "execution_count": 131,
   "id": "92eae1dc",
   "metadata": {},
   "outputs": [
    {
     "name": "stdout",
     "output_type": "stream",
     "text": [
      "nim : ['001', '002', '003']\n",
      "nama : ['bejo', 'karti', 'tejo']\n",
      "ipk : [3.25, 2.33, 1.88]\n",
      "nim : ('001', '002', '003')\n",
      "nama : ('bejo', 'karti', 'tejo')\n",
      "ipk : (3.25, 2.33, 1.88)\n"
     ]
    }
   ],
   "source": [
    "# Cara konvensional\n",
    "siswa = [('001','bejo',3.25),\n",
    "         ('002','karti',2.33),\n",
    "         ('003','tejo',1.88)]\n",
    "nim = []\n",
    "nama = []\n",
    "ipk = []\n",
    "for data in siswa:\n",
    "    nim.append(data[0])\n",
    "    nama.append(data[1])\n",
    "    ipk.append(data[2])\n",
    "print(f'nim : {nim}')\n",
    "print(f'nama : {nama}')\n",
    "print(f'ipk : {ipk}')\n",
    "\n",
    "# Cara pyhtonic\n",
    "nim, nama, ipk = zip(*siswa)\n",
    "print(f'nim : {nim}')\n",
    "print(f'nama : {nama}')\n",
    "print(f'ipk : {ipk}')"
   ]
  },
  {
   "cell_type": "markdown",
   "id": "9a228c3d",
   "metadata": {},
   "source": [
    "### Pythonic 26 -  Mengelola Sumber Daya (Resources) dengan Context Manager"
   ]
  },
  {
   "cell_type": "code",
   "execution_count": 137,
   "id": "1cb4bfac",
   "metadata": {},
   "outputs": [],
   "source": [
    "# Cara konvensional\n",
    "fileku = open('pesan.txt','w')\n",
    "fileku.write('Ayo belajar Pythonic\\n')\n",
    "fileku.write('di chanel Indonesia Belajar\\n')\n",
    "fileku.close()\n",
    "# Cara pythonic\n",
    "with open('pesan.txt','w') as fileku:\n",
    "    fileku.write('Semangat belajar Pythonic\\n')\n",
    "    fileku.write('Berasama channel Indonesia Belajar\\n')"
   ]
  },
  {
   "cell_type": "markdown",
   "id": "e250ff53",
   "metadata": {},
   "source": [
    "### Pythonic 27 - Mengenal Method Count pada List untuk Menghitung Jumlah Kemunculan Suatu Nilai"
   ]
  },
  {
   "cell_type": "code",
   "execution_count": 145,
   "id": "5611dfc0",
   "metadata": {},
   "outputs": [
    {
     "name": "stdout",
     "output_type": "stream",
     "text": [
      "Jumlah angka 30 adalah 2\n",
      "Jumlah angka 30 adalah 2\n"
     ]
    }
   ],
   "source": [
    "# Cara konvensional\n",
    "listku = [30,20,60,40,20,10,30,20]\n",
    "hitung = 30\n",
    "jumlah = 0 \n",
    "for i in listku:\n",
    "    if i == hitung:\n",
    "        jumlah += 1\n",
    "        \n",
    "print(f'Jumlah angka {hitung} adalah {jumlah}')\n",
    "\n",
    "# Cara pythonic\n",
    "jumlah = listku.count(hitung)\n",
    "print(f'Jumlah angka {hitung} adalah {jumlah}')"
   ]
  },
  {
   "cell_type": "markdown",
   "id": "47a146f6",
   "metadata": {},
   "source": [
    "### Pythonic 28 - Mengenal Format Teks (String Formatting)"
   ]
  },
  {
   "cell_type": "code",
   "execution_count": 153,
   "id": "88b04c18",
   "metadata": {},
   "outputs": [
    {
     "name": "stdout",
     "output_type": "stream",
     "text": [
      "Nama saya bejo usia saya 25 tahun \n",
      "Nama saya bejo usia saya 25 tahun\n",
      "Nama saya bejo usia saya 25 tahun\n",
      "Nama saya bejo usia saya 25 tahun\n",
      "Nama saya tejo usia saya 35 tahun\n",
      "Nama saya bejo usia saya 25 tahun\n"
     ]
    }
   ],
   "source": [
    "# Cara konvensional\n",
    "nama = 'bejo'\n",
    "usia = 25\n",
    "print('Nama saya ' + nama + ' usia saya ' + str(usia) + ' tahun ')\n",
    "print('Nama saya %s usia saya %d tahun' % (nama,usia))\n",
    "\n",
    "#Cara pythonic\n",
    "print('Nama saya {} usia saya {} tahun'.format(nama, usia))\n",
    "print('Nama saya {1} usia saya {0} tahun'.format(usia, nama))\n",
    "siswa = {\n",
    "    'nim':'001',\n",
    "    'nama':'tejo',\n",
    "    'usia':35,\n",
    "    'ipk':3.75\n",
    "}\n",
    "print('Nama saya {nama} usia saya {usia} tahun'.format(**siswa))\n",
    "print(f'Nama saya {nama} usia saya {usia} tahun') # baru digunakan pada pyhton 3.6"
   ]
  },
  {
   "cell_type": "markdown",
   "id": "53ed63e6",
   "metadata": {},
   "source": [
    "### Pythonic 29 - Menggabungkan/Menyatukan Dictionary"
   ]
  },
  {
   "cell_type": "code",
   "execution_count": 158,
   "id": "6cfc0ec9",
   "metadata": {},
   "outputs": [
    {
     "name": "stdout",
     "output_type": "stream",
     "text": [
      "Siswa: {'nim': '001', 'nama': 'bejo', 'ipk': 3.25, 'semester': 4}\n",
      "Siswa: {'nim': '001', 'nama': 'bejo', 'ipk': 3.25, 'semester': 4, 'kota': 'palembang', 'hobi': 'membaca'}\n"
     ]
    }
   ],
   "source": [
    "# Cara konvensional\n",
    "data1 = {'nim':'001','nama':'bejo'}\n",
    "data2 = {'ipk':3.25,'semester':4}\n",
    "data3 = {'kota':'palembang','hobi':'membaca'}\n",
    "siswa = {}\n",
    "for kunci in data1:\n",
    "    siswa[kunci] = data1[kunci]\n",
    "for kunci in data2:\n",
    "    siswa[kunci] = data2[kunci]\n",
    "print(f'Siswa: {siswa}')\n",
    "\n",
    "# Cara pythonic\n",
    "siswa = {**data1, **data2, **data3}\n",
    "print(f'Siswa: {siswa}') # baru digunakan pada pyhton 3.5"
   ]
  },
  {
   "cell_type": "markdown",
   "id": "38ada3db",
   "metadata": {},
   "source": [
    "### Pythonic 30 - Menggantikan Operator OR dengan Operator IN "
   ]
  },
  {
   "cell_type": "code",
   "execution_count": 165,
   "id": "e456f01a",
   "metadata": {},
   "outputs": [
    {
     "name": "stdout",
     "output_type": "stream",
     "text": [
      "siswa reguler\n",
      "siswa reguler\n"
     ]
    }
   ],
   "source": [
    "# Cara konvensional\n",
    "nama = 'anto'\n",
    "if nama == 'bejo' or nama == 'tejo' or nama =='karti':\n",
    "    print('siswa teladan')\n",
    "else:\n",
    "    print('siswa reguler')\n",
    "# Cara pythonic\n",
    "if nama in ('bejo', 'tejo','karti'):\n",
    "    print('siswa teladan')\n",
    "else:\n",
    "    print('siswa reguler')"
   ]
  },
  {
   "cell_type": "markdown",
   "id": "44ff78af",
   "metadata": {},
   "source": [
    "### Pythonic 31 - Mengenal Else pada Perulangan For Loop"
   ]
  },
  {
   "cell_type": "code",
   "execution_count": 171,
   "id": "8a81ef5e",
   "metadata": {},
   "outputs": [
    {
     "name": "stdout",
     "output_type": "stream",
     "text": [
      "Kecepatan melampaui ambang batas\n",
      "Kecepatan melampaui ambang batas\n"
     ]
    }
   ],
   "source": [
    "# Cara konvensional\n",
    "kecepatan = [60,40,80,60,90,30,110,20]\n",
    "ambang_batas = 100\n",
    "laju_normal = True\n",
    "for laju in kecepatan:\n",
    "    if laju > ambang_batas:\n",
    "        laju_normal = False\n",
    "        print('Kecepatan melampaui ambang batas')\n",
    "        break\n",
    "if laju_normal:\n",
    "    print('Laju kendaraan normal')\n",
    "    \n",
    "# Cara pythonic\n",
    "for laju in kecepatan:\n",
    "    if laju > ambang_batas:\n",
    "        laju_normal = False\n",
    "        print('Kecepatan melampaui ambang batas')\n",
    "        break\n",
    "else:\n",
    "    print('Laju kendaraan normal')"
   ]
  },
  {
   "cell_type": "markdown",
   "id": "52811e19",
   "metadata": {},
   "source": [
    "### Pythonic 32 - Penanda Posisi Digit (Digital Placeholder) dengan Karakter Underscore"
   ]
  },
  {
   "cell_type": "code",
   "execution_count": 174,
   "id": "2a54c96e",
   "metadata": {},
   "outputs": [
    {
     "name": "stdout",
     "output_type": "stream",
     "text": [
      "gaji : 50000000\n"
     ]
    }
   ],
   "source": [
    "gaji = 50_000_000\n",
    "print(f'gaji : {gaji}')"
   ]
  },
  {
   "cell_type": "markdown",
   "id": "ae9b7a5d",
   "metadata": {},
   "source": [
    "### Pythonic 33 - Mengenal Tabel Translasi (Translation Table) untuk String Mapping"
   ]
  },
  {
   "cell_type": "code",
   "execution_count": 178,
   "id": "52bf46f5",
   "metadata": {},
   "outputs": [
    {
     "name": "stdout",
     "output_type": "stream",
     "text": [
      "hasil konversi : k0t4 c1r3b0n\n",
      "hasil konversi : k0t4 c1r3b0n\n"
     ]
    }
   ],
   "source": [
    "# Cara konvensional\n",
    "#'aieo'\n",
    "#'4130'\n",
    "string_input = 'kota cirebon'\n",
    "string_output = ''\n",
    "translasi = {\n",
    "    'a':'4',\n",
    "    'i':'1',\n",
    "    'e':'3',\n",
    "    'o':'0'\n",
    "}\n",
    "for x in string_input:\n",
    "    val = translasi.get(x)\n",
    "    string_output += val if val else x\n",
    "print(f'hasil konversi : {string_output}')\n",
    "\n",
    "# Cara pythonic -- Translation Tabel\n",
    "sumber = 'aieo'\n",
    "tujuan = '4130'\n",
    "tabel_translasi = str.maketrans(sumber,tujuan)\n",
    "string_output = string_input.translate(tabel_translasi)\n",
    "print(f'hasil konversi : {string_output}')"
   ]
  },
  {
   "cell_type": "markdown",
   "id": "2f622c1c",
   "metadata": {},
   "source": [
    "### Pythonic 34 - Pengurutan Data dengan Method Sort dan Fungsi Sorted"
   ]
  },
  {
   "cell_type": "code",
   "execution_count": 184,
   "id": "b5b824e7",
   "metadata": {},
   "outputs": [
    {
     "name": "stdout",
     "output_type": "stream",
     "text": [
      "Sebelum : ['karti susanti', 'tejo purnawan', 'bejo rahmadi']\n",
      "Sesudah : ['bejo rahmadi', 'karti susanti', 'tejo purnawan']\n",
      "Sesudah : ['bejo rahmadi', 'karti susanti', 'tejo purnawan']\n"
     ]
    }
   ],
   "source": [
    "#cara konvensional\n",
    "siswa = ['karti susanti','tejo purnawan','bejo rahmadi'] \n",
    "print(f'Sebelum : {siswa}')\n",
    "#hanya untuk list, tidak dapat untuk tuple dan string\n",
    "siswa.sort()\n",
    "print(f'Sesudah : {siswa}')\n",
    "#cara pythonic\n",
    "siswa = ['karti susanti','tejo purnawan','bejo rahmadi']\n",
    "terurut = sorted(siswa)\n",
    "#dapat digunakan untuk semua object data\n",
    "print(f'Sesudah : {terurut}')"
   ]
  },
  {
   "cell_type": "markdown",
   "id": "d7b7c4b9",
   "metadata": {},
   "source": [
    "### Pythonic 35 - Pengurutan Data dengan Custom Key pada Fungsi Sorted"
   ]
  },
  {
   "cell_type": "code",
   "execution_count": 191,
   "id": "bd062391",
   "metadata": {},
   "outputs": [
    {
     "name": "stdout",
     "output_type": "stream",
     "text": [
      "sebelum: ['karti susanti', 'tejo purnawan', 'bejo rahmadi']\n",
      "terurut: ['tejo purnawan', 'bejo rahmadi', 'karti susanti']\n",
      "terurut: ['tejo purnawan', 'bejo rahmadi', 'karti susanti']\n",
      "terurut: ['tejo purnawan', 'bejo rahmadi', 'karti susanti']\n"
     ]
    }
   ],
   "source": [
    "# cara konvensional\n",
    "siswa = ['karti susanti','tejo purnawan','bejo rahmadi']\n",
    "print(f'sebelum: {siswa}')\n",
    "for i in range(len(siswa)-1):\n",
    "    for j in range(i+1,len(siswa)):\n",
    "        if siswa[i].split()[-1] > siswa[j].split()[-1]:\n",
    "            siswa[i], siswa[j] = siswa[j], siswa[i]\n",
    "print(f'terurut: {siswa}')\n",
    "\n",
    "# cara pythonic\n",
    "def custom_key(nama):\n",
    "    return nama.split()[-1]\n",
    "terurut = sorted(siswa, key=custom_key)\n",
    "print(f'terurut: {terurut}')\n",
    "\n",
    "# menggunakan lamda ekspresi\n",
    "terurut = sorted(siswa, key=lambda x:x.split()[-1])\n",
    "print(f'terurut: {terurut}')"
   ]
  },
  {
   "cell_type": "markdown",
   "id": "44c1dee6",
   "metadata": {},
   "source": [
    "### Pythonic 36 - Mengenal Multiple Assignment untuk Meringkas Inisiasi Variabel"
   ]
  },
  {
   "cell_type": "code",
   "execution_count": 194,
   "id": "5f0376aa",
   "metadata": {},
   "outputs": [
    {
     "name": "stdout",
     "output_type": "stream",
     "text": [
      "a:10, b:10, b:10\n",
      "a:10, b:10, b:10\n"
     ]
    }
   ],
   "source": [
    "# cara konvensional\n",
    "a = 10\n",
    "b = 10\n",
    "c = 10\n",
    "print(f'a:{a}, b:{b}, b:{b}')\n",
    "\n",
    "# cara pyhtonic\n",
    "a = b = c = 10\n",
    "print(f'a:{a}, b:{b}, b:{b}')"
   ]
  },
  {
   "cell_type": "markdown",
   "id": "7d457cd2",
   "metadata": {},
   "source": [
    "### Pythonic 37 - Mengenal Keyword Arguments dan Positional Arguments"
   ]
  },
  {
   "cell_type": "code",
   "execution_count": 198,
   "id": "1a95acda",
   "metadata": {},
   "outputs": [
    {
     "name": "stdout",
     "output_type": "stream",
     "text": [
      "Karti Susanti\n",
      "Susanti Karti\n",
      "Karti Susanti\n"
     ]
    }
   ],
   "source": [
    "# Cara konvensional\n",
    "def cetak_nama(f_name,l_name):\n",
    "    print(f'{f_name} {l_name}')\n",
    "\n",
    "cetak_nama('Karti','Susanti')\n",
    "cetak_nama('Susanti','Karti')\n",
    "\n",
    "# Cara pythonic\n",
    "cetak_nama(f_name='Karti',l_name='Susanti')"
   ]
  },
  {
   "cell_type": "markdown",
   "id": "d80162e8",
   "metadata": {},
   "source": [
    "### Pythonic 38 - Melakukan Unpacking Argument pada Pemanggilan Fungsi"
   ]
  },
  {
   "cell_type": "code",
   "execution_count": 207,
   "id": "813b51e0",
   "metadata": {},
   "outputs": [
    {
     "name": "stdout",
     "output_type": "stream",
     "text": [
      "Hasilnya adalah : 30\n",
      "Hasilnya adalah : 300\n",
      "Hasilnya adalah : 30\n",
      "Hasilnya adalah : 300\n"
     ]
    }
   ],
   "source": [
    "# cara konvensional\n",
    "def jumlahkan(p_satu,p_dua):\n",
    "    return p_satu + p_dua\n",
    "\n",
    "listku = [10,20]\n",
    "dictku = {'p_satu':100, 'p_dua':200}\n",
    "\n",
    "hasil_list = jumlahkan(listku[0], listku[1])\n",
    "print(f'Hasilnya adalah : {hasil_list}')\n",
    "hasil_dict = jumlahkan(dictku['p_satu'], dictku['p_dua'])\n",
    "print(f'Hasilnya adalah : {hasil_dict}')\n",
    "\n",
    "# cara pythonic\n",
    "hasil_list = jumlahkan(*listku)\n",
    "print(f'Hasilnya adalah : {hasil_list}')\n",
    "hasil_list = jumlahkan(**dictku)\n",
    "print(f'Hasilnya adalah : {hasil_dict}')"
   ]
  },
  {
   "cell_type": "markdown",
   "id": "f797f9cd",
   "metadata": {},
   "source": [
    "### Pythonic 39 - Mengenal dan Merangkai Beberapa Method String "
   ]
  },
  {
   "cell_type": "code",
   "execution_count": 218,
   "id": "48e33a45",
   "metadata": {},
   "outputs": [
    {
     "name": "stdout",
     "output_type": "stream",
     "text": [
      "x:  Bahasa Pemgrograman Python : guido Van RoSSum \n",
      "y: Bahasa Pemgrograman Python : guido Van RoSSum\n",
      "y: BAHASA PEMGROGRAMAN PYTHON : GUIDO VAN ROSSUM\n",
      "y: bahasa pemgrograman python : guido van rossum\n",
      "y: bahasa pemgrograman python ; guido van rossum\n",
      "x:  Bahasa Pemgrograman Python : guido Van RoSSum \n",
      "y: BAHASA PEMGROGRAMAN PYTHON ; GUIDO VAN ROSSUM\n"
     ]
    }
   ],
   "source": [
    "# cara konvensional\n",
    "x = ' Bahasa Pemgrograman Python : guido Van RoSSum '\n",
    "print(f'x: {x}')\n",
    "\n",
    "y = x.strip() # mengilangkan spasi di awal dan di akhir\n",
    "print(f'y: {y}')\n",
    "y = y.upper()\n",
    "print(f'y: {y}')\n",
    "y = y.lower()\n",
    "print(f'y: {y}')\n",
    "y = y.replace(':',';')\n",
    "print(f'y: {y}')\n",
    "x = ' Bahasa Pemgrograman Python : guido Van RoSSum '\n",
    "print(f'x: {x}')\n",
    "y = x.strip().upper().replace(':',';')\n",
    "print(f'y: {y}')"
   ]
  },
  {
   "cell_type": "markdown",
   "id": "beeed6f5",
   "metadata": {},
   "source": [
    "### Pythonic 40 - Mengenal Default Argument (Function Overloading)"
   ]
  },
  {
   "cell_type": "code",
   "execution_count": 224,
   "id": "22aa9551",
   "metadata": {},
   "outputs": [
    {
     "name": "stdout",
     "output_type": "stream",
     "text": [
      "Hi Karti! Selamat Pagi\n",
      "Hi Tejo! Apa Kabar\n",
      "Hi Bejo! \n",
      "Hai Bejo\n"
     ]
    }
   ],
   "source": [
    "# cara konvensional\n",
    "def salam(nama, pesan):\n",
    "    print(f'Hi {nama}! {pesan}')\n",
    "def salam_alternatif(nama):\n",
    "    print(f'Hai {nama}')\n",
    "salam('Karti', 'Selamat Pagi')\n",
    "salam('Tejo', 'Apa Kabar')\n",
    "salam('Bejo','')\n",
    "salam_alternatif('Bejo')\n",
    "\n",
    "# cara pythonic - default argument"
   ]
  },
  {
   "cell_type": "code",
   "execution_count": null,
   "id": "cf6ccb15",
   "metadata": {},
   "outputs": [],
   "source": []
  }
 ],
 "metadata": {
  "kernelspec": {
   "display_name": "Python 3 (ipykernel)",
   "language": "python",
   "name": "python3"
  },
  "language_info": {
   "codemirror_mode": {
    "name": "ipython",
    "version": 3
   },
   "file_extension": ".py",
   "mimetype": "text/x-python",
   "name": "python",
   "nbconvert_exporter": "python",
   "pygments_lexer": "ipython3",
   "version": "3.9.7"
  }
 },
 "nbformat": 4,
 "nbformat_minor": 5
}
