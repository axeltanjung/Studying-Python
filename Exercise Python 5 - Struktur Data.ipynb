{
 "cells": [
  {
   "cell_type": "markdown",
   "id": "9e97b179",
   "metadata": {},
   "source": [
    "## Channel Indonesia Belajar"
   ]
  },
  {
   "cell_type": "markdown",
   "id": "086a49ea",
   "metadata": {},
   "source": [
    "### Struktur Data List"
   ]
  },
  {
   "cell_type": "code",
   "execution_count": 12,
   "id": "df9e0591",
   "metadata": {},
   "outputs": [
    {
     "name": "stdout",
     "output_type": "stream",
     "text": [
      "listku = [20, 40, 50, 10, 80, 50, 30, 40, 70]\n",
      "10\n",
      "40\n",
      "[50, 10, 80]\n",
      "[20, 40, 50, 10, 80]\n",
      "[80, 50, 30, 40, 70]\n",
      "[50, 80, 30]\n",
      "listmu = [54, 7.4, True, 'hello world', [10, 'abc']]\n",
      "listmu = [54, 7.4, 'berubah', 'hello world', [10, 'abc']]\n",
      "listmu = [54, 7.4, 'berubah', 'hello world', [10, 'abc'], 'data baru']\n",
      "var_tmp = 70\n",
      "listmu = [54, 7.4, 'berubah', 'hello world', [10, 'abc'], 'data baru']\n",
      "list_gabung = [20, 40, 10, 80, 50, 30, 40, 54, 7.4, 'berubah', 'hello world', [10, 'abc'], 'data baru']\n"
     ]
    }
   ],
   "source": [
    "#type data integer dan dapat memiliki nilai duplikasi\n",
    "listku = [20,40,50,10,80,50,30,40,70]\n",
    "print(f'listku = {listku}')\n",
    "print(f'{listku[3]}') # akses index, bisa negatif\n",
    "print(f'{listku[-2]}') # akses terhadap data ke 2 dari belakang\n",
    "print(f'{listku[2:5]}') #slicing data index ke 2 sampai ke 5(tidak disertakan) \n",
    "print(f'{listku[:5]}') #slicing data index awal sampai ke 5(tidak disertakan) \n",
    "print(f'{listku[4:]}') #slicing data index ke 4 sampai data terakhir\n",
    "print(f'{listku[2:8:2]}') #slicing data index ke 2 sampai data ke 8(tidak disertakan) dengan longkap 1\n",
    "listmu = [54, 7.4, True, 'hello world', [10, 'abc']]\n",
    "print(f'listmu = {listmu}')\n",
    "\n",
    "# array -- type data sama\n",
    "# list -- type data dapat berbeda -- mutable data type dapat berubah\n",
    "\n",
    "#mengganti nilai dari data list\n",
    "listmu[2] = 'berubah' \n",
    "print(f'listmu = {listmu}')\n",
    "\n",
    "#menambah data baru pada list --> selalu paling belakang\n",
    "listmu.append('data baru')\n",
    "print(f'listmu = {listmu}')\n",
    "\n",
    "#mengeluarkan data pada posisi paling akhir\n",
    "var_tmp = listku.pop()\n",
    "print(f'var_tmp = {var_tmp}')\n",
    "\n",
    "#menghapus nilai atau data dari list\n",
    "listku.remove(50) # nilai yang terbuang yang pertamakali ketemu\n",
    "print(f'listmu = {listmu}')\n",
    "\n",
    "#penggabungan list (list concanation)\n",
    "list_gabung = listku+listmu\n",
    "print(f'list_gabung = {list_gabung}')"
   ]
  },
  {
   "cell_type": "markdown",
   "id": "40d44bad",
   "metadata": {},
   "source": [
    "### Struktur Data Tuple"
   ]
  },
  {
   "cell_type": "code",
   "execution_count": 26,
   "id": "b1899ba9",
   "metadata": {},
   "outputs": [
    {
     "name": "stdout",
     "output_type": "stream",
     "text": [
      "tupleku :(40, 50, 10, 40, 30, 40, 70)\n",
      "tuplemu :(20, 30, 50)\n",
      "x :(20,)\n",
      "tuplemu :(54, 7.4, False, 'hello world', [77, 'xyz'])\n",
      "tuplemu :hello world\n",
      "tuplemu :[77, 'xyz']\n",
      "tuplemu :([77, 'xyz'],)\n",
      "tuple_gabung : (40, 50, 10, 40, 30, 40, 70, 54, 7.4, False, 'hello world', [77, 'xyz'])\n"
     ]
    }
   ],
   "source": [
    "# Dapat menampung nilai duplikasi\n",
    "tupleku = (40,50,10,40,30,40,70)\n",
    "print(f'tupleku :{tupleku}')\n",
    "tuplemu = 20,30,50 # tidak harus menggunakan tanda kurung\n",
    "x = 20, # tuple dengan 1 kata\n",
    "print(f'tuplemu :{tuplemu}')\n",
    "print(f'x :{x}')\n",
    "\n",
    "#membuat tuple dengan tipe data yang berbeda-beda\n",
    "tuplemu = (54,7.4,False,'hello world',[77,'xyz']) # sequence data type\n",
    "print(f'tuplemu :{tuplemu}')\n",
    "\n",
    "#akses data pada tuple\n",
    "print(f'tuplemu :{tuplemu[3]}')\n",
    "\n",
    "#akses data dari belakang\n",
    "print(f'tuplemu :{tuplemu[-1]}')\n",
    "\n",
    "#Slicing data pada tuple\n",
    "print(f'tuplemu :{tuplemu[4:]}')\n",
    "\n",
    "#Tuple bersifat imutable atau tidak dapat berubah\n",
    "#Dua paragdigma = Imperative Programming = Object Oriented Programing (OOP) bersifat straigfull\n",
    "#Functional programming -- aspek stateless\n",
    "\n",
    "#menggabungkan tuple\n",
    "tuple_gabung = tupleku + tuplemu\n",
    "print(f'tuple_gabung : {tuple_gabung}')"
   ]
  },
  {
   "cell_type": "markdown",
   "id": "cb5b5a7f",
   "metadata": {},
   "source": [
    "### Struktur Data Dictionary"
   ]
  },
  {
   "cell_type": "code",
   "execution_count": 60,
   "id": "51405ad9",
   "metadata": {
    "scrolled": true
   },
   "outputs": [
    {
     "name": "stdout",
     "output_type": "stream",
     "text": [
      "data siswa : {'nama': 'bejo', 'UTS': 80, 'UAS': 80, 'lulus': True, 'hobi': ['selfie', 'belajar']}\n",
      "data kosong : {}\n",
      "bejo\n",
      "data tidak ditemukan\n",
      "daftar kunci: dict_keys(['nama', 'UTS', 'UAS', 'lulus', 'hobi'])\n",
      "nama\n",
      "UTS\n",
      "UAS\n",
      "lulus\n",
      "hobi\n",
      "daftar nilai: dict_values(['bejo', 80, 80, True, ['selfie', 'belajar']])\n",
      "bejo\n",
      "80\n",
      "80\n",
      "True\n",
      "['selfie', 'belajar']\n",
      "Daftar pasangan kunci dan nilai : dict_items([('nama', 'bejo'), ('UTS', 80), ('UAS', 80), ('lulus', True), ('hobi', ['selfie', 'belajar'])])\n",
      "nama = bejo\n",
      "UTS = 80\n",
      "UAS = 80\n",
      "lulus = True\n",
      "hobi = ['selfie', 'belajar']\n",
      "data siswa : {'nama': 'bejo', 'UTS': 70, 'UAS': 80, 'lulus': True, 'hobi': ['selfie', 'belajar']}\n",
      "data siswa : {'nama': 'bejo', 'UTS': 70, 'UAS': 80, 'lulus': True, 'hobi': ['selfie', 'belajar'], 'Gender': 'Lelaki'}\n",
      "data siswa : {'nama': 'Tejo', 'UTS': 100, 'UAS': 80, 'lulus': True, 'hobi': ['selfie', 'belajar'], 'Gender': 'Lelaki', 'Program Studi': 'Sistem Informasi'}\n",
      "data siswa : {'nama': 'Tejo', 'UTS': 100, 'UAS': 80, 'lulus': True, 'hobi': ['selfie', 'belajar'], 'Gender': 'Lelaki', 'Program Studi': 'Sistem Informasi'}\n",
      "data pop : nilai tidak ditemukan\n",
      "data siswa : {'nama': 'Tejo', 'UTS': 100, 'UAS': 80, 'lulus': True, 'hobi': ['selfie', 'belajar'], 'Gender': 'Lelaki', 'Program Studi': 'Sistem Informasi'}\n",
      "data tambahan : {'bidang minat': 'data science', 'bahasa pemrograman': 'python'}\n",
      "hasil gabungan : {'nama': 'Tejo', 'UTS': 100, 'UAS': 80, 'lulus': True, 'hobi': ['selfie', 'belajar'], 'Gender': 'Lelaki', 'Program Studi': 'Sistem Informasi', 'bidang minat': 'data science', 'bahasa pemrograman': 'python'}\n"
     ]
    },
    {
     "ename": "UnsupportedOperation",
     "evalue": "not readable",
     "output_type": "error",
     "traceback": [
      "\u001b[1;31m---------------------------------------------------------------------------\u001b[0m",
      "\u001b[1;31mUnsupportedOperation\u001b[0m                      Traceback (most recent call last)",
      "\u001b[1;32m~\\AppData\\Local\\Temp/ipykernel_12796/2878769870.py\u001b[0m in \u001b[0;36m<module>\u001b[1;34m\u001b[0m\n\u001b[0;32m     72\u001b[0m \u001b[1;32mimport\u001b[0m \u001b[0mjson\u001b[0m\u001b[1;33m\u001b[0m\u001b[1;33m\u001b[0m\u001b[0m\n\u001b[0;32m     73\u001b[0m \u001b[1;32mwith\u001b[0m \u001b[0mopen\u001b[0m\u001b[1;33m(\u001b[0m\u001b[1;34m'fileku.json'\u001b[0m\u001b[1;33m,\u001b[0m\u001b[1;34m'w'\u001b[0m\u001b[1;33m)\u001b[0m \u001b[1;32mas\u001b[0m \u001b[0mfileku\u001b[0m\u001b[1;33m:\u001b[0m\u001b[1;33m\u001b[0m\u001b[1;33m\u001b[0m\u001b[0m\n\u001b[1;32m---> 74\u001b[1;33m     \u001b[0mdictku\u001b[0m \u001b[1;33m=\u001b[0m \u001b[0mjson\u001b[0m\u001b[1;33m.\u001b[0m\u001b[0mload\u001b[0m\u001b[1;33m(\u001b[0m\u001b[0mfileku\u001b[0m\u001b[1;33m)\u001b[0m\u001b[1;33m\u001b[0m\u001b[1;33m\u001b[0m\u001b[0m\n\u001b[0m\u001b[0;32m     75\u001b[0m     \u001b[0mprint\u001b[0m\u001b[1;33m(\u001b[0m\u001b[1;34mf'dictionary ku : {dictku}'\u001b[0m\u001b[1;33m)\u001b[0m\u001b[1;33m\u001b[0m\u001b[1;33m\u001b[0m\u001b[0m\n",
      "\u001b[1;32m~\\anaconda3\\lib\\json\\__init__.py\u001b[0m in \u001b[0;36mload\u001b[1;34m(fp, cls, object_hook, parse_float, parse_int, parse_constant, object_pairs_hook, **kw)\u001b[0m\n\u001b[0;32m    291\u001b[0m     \u001b[0mkwarg\u001b[0m\u001b[1;33m;\u001b[0m \u001b[0motherwise\u001b[0m\u001b[0;31m \u001b[0m\u001b[0;31m`\u001b[0m\u001b[0;31m`\u001b[0m\u001b[0mJSONDecoder\u001b[0m\u001b[0;31m`\u001b[0m\u001b[0;31m`\u001b[0m \u001b[1;32mis\u001b[0m \u001b[0mused\u001b[0m\u001b[1;33m.\u001b[0m\u001b[1;33m\u001b[0m\u001b[1;33m\u001b[0m\u001b[0m\n\u001b[0;32m    292\u001b[0m     \"\"\"\n\u001b[1;32m--> 293\u001b[1;33m     return loads(fp.read(),\n\u001b[0m\u001b[0;32m    294\u001b[0m         \u001b[0mcls\u001b[0m\u001b[1;33m=\u001b[0m\u001b[0mcls\u001b[0m\u001b[1;33m,\u001b[0m \u001b[0mobject_hook\u001b[0m\u001b[1;33m=\u001b[0m\u001b[0mobject_hook\u001b[0m\u001b[1;33m,\u001b[0m\u001b[1;33m\u001b[0m\u001b[1;33m\u001b[0m\u001b[0m\n\u001b[0;32m    295\u001b[0m         \u001b[0mparse_float\u001b[0m\u001b[1;33m=\u001b[0m\u001b[0mparse_float\u001b[0m\u001b[1;33m,\u001b[0m \u001b[0mparse_int\u001b[0m\u001b[1;33m=\u001b[0m\u001b[0mparse_int\u001b[0m\u001b[1;33m,\u001b[0m\u001b[1;33m\u001b[0m\u001b[1;33m\u001b[0m\u001b[0m\n",
      "\u001b[1;31mUnsupportedOperation\u001b[0m: not readable"
     ]
    }
   ],
   "source": [
    "# Dict memungkinkan memiliki value yang sama tetapi key tidak boleh sama\n",
    "data_siswa = {'nama':'bejo', 'UTS':80,'UAS':80,\n",
    "              'lulus':True,'hobi':['selfie','belajar']}\n",
    "print(f'data siswa : {data_siswa}')\n",
    "\n",
    "# Mendefinisikan dict kosong\n",
    "data_kosong = {}\n",
    "print(f'data kosong : {data_kosong}')\n",
    "\n",
    "#Dict tidak termasuk sequence data type, akses data menggunakan key!\n",
    "print(data_siswa['nama']) #melakukan akses dengan kurung siku\n",
    "\n",
    "#Alternatif menggunakan get\n",
    "print(data_siswa.get('alamat', 'data tidak ditemukan')) #dapat memasukan nilai alternatif bila key tidak ditemukan\n",
    "\n",
    "#Eksraksi keys - menggembalikan nama keys\n",
    "daftar_kunci = data_siswa.keys()\n",
    "print(f'daftar kunci: {daftar_kunci}')\n",
    "\n",
    "#Menggunakan iterasi for loop\n",
    "for kunci in daftar_kunci:\n",
    "    print(kunci)\n",
    "    \n",
    "#Eksraksi values - menggembalikan nama values\n",
    "daftar_nilai = data_siswa.values()\n",
    "print(f'daftar nilai: {daftar_nilai}')\n",
    "\n",
    "#Menggunakan iterasi for loop\n",
    "for kunci in daftar_nilai:\n",
    "    print(kunci)\n",
    "    \n",
    "#Ekstraksi keseluruhan keys dan value berpasangan\n",
    "daftar_kunci_nilai = data_siswa.items()\n",
    "print(f'Daftar pasangan kunci dan nilai : {daftar_kunci_nilai}')\n",
    "\n",
    "#Menggunakan iterasi for loop\n",
    "for k, v in daftar_kunci_nilai:\n",
    "    print(f'{k} = {v}')\n",
    "    \n",
    "#Termasuk ke mutable data type / Dapat berubah\n",
    "data_siswa['UTS'] = 70\n",
    "print(f'data siswa : {data_siswa}')\n",
    "\n",
    "#Penambahan nilai baru\n",
    "data_siswa['Gender'] = 'Lelaki'\n",
    "print(f'data siswa : {data_siswa}')\n",
    "\n",
    "#Method Update - perubahan untuk beberapa nilai dari dict\n",
    "data_siswa.update({'nama':'Tejo','UTS':100,\n",
    "                 'Program Studi':'Sistem Informasi'})\n",
    "print(f'data siswa : {data_siswa}')\n",
    "\n",
    "#Mengeluarkan nilai di dict, dapat dimasukan argument kedua apabila nilai tidak ditemukan\n",
    "data_pop = data_siswa.pop('alamat','nilai tidak ditemukan')\n",
    "print(f'data siswa : {data_siswa}')\n",
    "print(f'data pop : {data_pop}')\n",
    "\n",
    "#penggabungan dict\n",
    "data_tambahan = {'bidang minat':'data science',\n",
    "                'bahasa pemrograman':'python'}\n",
    "print(f'data siswa : {data_siswa}')\n",
    "print(f'data tambahan : {data_tambahan}')\n",
    "data_gabungan = {**data_siswa,**data_tambahan} # ** untuk merepresentasikan keyword argument\n",
    "print(f'hasil gabungan : {data_gabungan}')\n",
    "\n",
    "#Hubungan dictionary dan JSON\n",
    "import json\n",
    "with open('fileku.json','w') as fileku:\n",
    "    json.dump(data_siswa,fileku)\n",
    "    \n",
    "#Membaca isi dari Json\n",
    "import json\n",
    "with open('fileku.json','w') as fileku:\n",
    "    dictku = json.load(fileku)\n",
    "    print(f'dictionary ku : {dictku}')"
   ]
  },
  {
   "cell_type": "markdown",
   "id": "c3028765",
   "metadata": {},
   "source": [
    "### Struktur Data Sets"
   ]
  },
  {
   "cell_type": "code",
   "execution_count": 82,
   "id": "b11c73f5",
   "metadata": {},
   "outputs": [
    {
     "name": "stdout",
     "output_type": "stream",
     "text": [
      "setku:{33, 66, 99, 22, 77}\n",
      "setmu : {False, 99, 'Happy Pythoning', 6.6}\n",
      "set kosong:set()\n",
      "setmu:{10, 20}\n",
      "setku:{33, 66, 99, 22, 'python', 77}\n",
      "setku:{33, 66, 99, 22, 'python'}\n",
      "setku:{33, 66, 99, 22, 'python'}\n",
      "hasil gabungan: {1, 2, 3, 4, 5, 6, 7, 8}\n",
      "hasil irisan: set()\n",
      "hasil selisih: {1, 2}\n",
      "beda setangkup : {1, 2, 5, 6}\n"
     ]
    }
   ],
   "source": [
    "#Nilai double akan terhapus dan urutan teracak\n",
    "setku = {33,66,22,66,99,22,77,33,22} \n",
    "print(f'setku:{setku}')\n",
    "\n",
    "#Dapat menampung data type beragam\n",
    "setmu = {99,6.6,False, 'Happy Pythoning'}\n",
    "print(f'setmu : {setmu}')\n",
    "\n",
    "#Perbedaan dengan dict adalah memiliki penanda ':'\n",
    "\n",
    "#Mendefinsikan set kosong\n",
    "set_kosong = set()\n",
    "print(f'set kosong:{set_kosong}')\n",
    "\n",
    "#Tidak termasuk ke sequence data type -- otomatis semua yang terduplikasi terhapus\n",
    "setmu = set([10,20,10,20,10,20])\n",
    "print(f'setmu:{setmu}')\n",
    "\n",
    "#Termasuk ke dalam mutable data type atau dapat berubah\n",
    "setku.add('python')\n",
    "print(f'setku:{setku}')\n",
    "\n",
    "#Menghapus nilai di dalam set\n",
    "setku.remove(77)\n",
    "print(f'setku:{setku}')\n",
    "\n",
    "#Alternatif penghapusan nilai, bila nilai tidak ada tidak error\n",
    "setku.discard(100)\n",
    "print(f'setku:{setku}')\n",
    "\n",
    "#Operasi dasar pada Sets\n",
    "s1 = {1,2,3,4}\n",
    "s2 = {3,4,5,6}\n",
    "s3 = {5,6,7,8}\n",
    "set_gabungan = s1.union(s2, s3)\n",
    "print(f'hasil gabungan: {set_gabungan}')\n",
    "\n",
    "#Operasi intersection / irisan\n",
    "set_irisan = s1.intersection(s2,s3)\n",
    "print(f'hasil irisan: {set_irisan}')\n",
    "\n",
    "#Operasi selisih\n",
    "set_selisih = s1.difference(s2,s3)\n",
    "print(f'hasil selisih: {set_selisih}')\n",
    "\n",
    "#Operasi simetrical differcence\n",
    "beda_setangkup = s1.symmetric_difference(s2)\n",
    "print(f'beda setangkup : {beda_setangkup}')"
   ]
  },
  {
   "cell_type": "markdown",
   "id": "452f9372",
   "metadata": {},
   "source": [
    "### Struktur Data Named Tuple"
   ]
  },
  {
   "cell_type": "code",
   "execution_count": 92,
   "id": "58fc0a9a",
   "metadata": {},
   "outputs": [
    {
     "name": "stdout",
     "output_type": "stream",
     "text": [
      "barang1: Barang(nama_barang='keyboard', harga_jual=500, garansi_vendor=True)\n",
      "barang2: Barang(nama_barang='mouse', harga_jual=150, garansi_vendor=False)\n",
      "barang1 : True\n",
      "keyboard : 500 ribu rupiah\n"
     ]
    }
   ],
   "source": [
    "from collections import namedtuple\n",
    "Barang = namedtuple('Barang',['nama_barang','harga_jual','garansi_vendor'])\n",
    "barang1 = Barang('keyboard',500,True) #Positional Argument sesuai dengan urutan argumen\n",
    "print(f'barang1: {barang1}')\n",
    "barang2 = Barang(garansi_vendor=False,nama_barang='mouse',harga_jual=150) #Keyword Argument seusai dengan nama indexnya 'keyword'\n",
    "print(f'barang2: {barang2}')\n",
    "print(f'barang1 : {barang1[2]}')\n",
    "print(f'{barang1.nama_barang} : {barang1.harga_jual} ribu rupiah')\n",
    "\n",
    "#Bersifat immutable sehingga tidak dapat dirubah"
   ]
  },
  {
   "cell_type": "code",
   "execution_count": null,
   "id": "fd1bb1fb",
   "metadata": {},
   "outputs": [],
   "source": []
  }
 ],
 "metadata": {
  "kernelspec": {
   "display_name": "Python 3 (ipykernel)",
   "language": "python",
   "name": "python3"
  },
  "language_info": {
   "codemirror_mode": {
    "name": "ipython",
    "version": 3
   },
   "file_extension": ".py",
   "mimetype": "text/x-python",
   "name": "python",
   "nbconvert_exporter": "python",
   "pygments_lexer": "ipython3",
   "version": "3.9.7"
  }
 },
 "nbformat": 4,
 "nbformat_minor": 5
}
