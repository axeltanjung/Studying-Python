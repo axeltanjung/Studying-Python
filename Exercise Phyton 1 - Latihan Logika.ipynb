{
 "cells": [
  {
   "cell_type": "markdown",
   "id": "891c6f07",
   "metadata": {},
   "source": [
    "# Jagoancoding.com \n",
    "##### https://jagongoding.com/python/latihan-logika/konversi-lusin-kodi-gross/"
   ]
  },
  {
   "cell_type": "markdown",
   "id": "f625060b",
   "metadata": {},
   "source": [
    "## Latihan 1 - Python: Fibonacci Non Rekursif"
   ]
  },
  {
   "cell_type": "markdown",
   "id": "7fa89ed7",
   "metadata": {},
   "source": [
    "### Solusi 1: Menggunakan list"
   ]
  },
  {
   "cell_type": "code",
   "execution_count": 8,
   "id": "983be9b2",
   "metadata": {},
   "outputs": [
    {
     "name": "stdout",
     "output_type": "stream",
     "text": [
      "Tuliskan panjang deret angka:7\n",
      "deret ke 3\n",
      "deret ke 4\n",
      "deret ke 5\n",
      "deret ke 6\n",
      "deret ke 7\n"
     ]
    }
   ],
   "source": [
    "panjang = int(input('Tuliskan panjang deret angka:'))\n",
    "\n",
    "fibo = [0,1]\n",
    "              \n",
    "for i in range (2,panjang):\n",
    "    print(f'deret ke {(i+1)}')"
   ]
  },
  {
   "cell_type": "code",
   "execution_count": 9,
   "id": "8fc3d544",
   "metadata": {},
   "outputs": [
    {
     "name": "stdout",
     "output_type": "stream",
     "text": [
      "deret ke 3 adalah index-0 + indenx-1\n",
      "deret ke 4 adalah index-1 + indenx-2\n",
      "deret ke 5 adalah index-2 + indenx-3\n",
      "deret ke 6 adalah index-3 + indenx-4\n",
      "deret ke 7 adalah index-4 + indenx-5\n"
     ]
    }
   ],
   "source": [
    "for i in range(2,panjang):\n",
    "    index1 = i-2\n",
    "    index2 = i-1\n",
    "    print(f'deret ke {(i+1)} adalah index-{index1} + indenx-{index2}')"
   ]
  },
  {
   "cell_type": "code",
   "execution_count": 10,
   "id": "b3a97029",
   "metadata": {},
   "outputs": [
    {
     "name": "stdout",
     "output_type": "stream",
     "text": [
      "[0, 1, 1, 2, 3, 5, 8]\n"
     ]
    }
   ],
   "source": [
    "for i in range(2,panjang):\n",
    "    angka1 = fibo[i-2]\n",
    "    angka2 = fibo[i-1]\n",
    "    angkaSelanjutnya = angka1 + angka2\n",
    "    \n",
    "    fibo.append(angkaSelanjutnya)\n",
    "    \n",
    "print(fibo)"
   ]
  },
  {
   "cell_type": "markdown",
   "id": "512f379b",
   "metadata": {},
   "source": [
    "### Solusi 2: Menggunakan variable bantuan"
   ]
  },
  {
   "cell_type": "code",
   "execution_count": 12,
   "id": "e2a0e8ee",
   "metadata": {},
   "outputs": [
    {
     "name": "stdout",
     "output_type": "stream",
     "text": [
      "Masukan panjang deret: 10\n"
     ]
    }
   ],
   "source": [
    "panjang = int(input('Masukan panjang deret: '))\n",
    "\n",
    "angka1, angka2 = 0,1"
   ]
  },
  {
   "cell_type": "code",
   "execution_count": 14,
   "id": "5fc94eb7",
   "metadata": {},
   "outputs": [
    {
     "name": "stdout",
     "output_type": "stream",
     "text": [
      "perulangan ke-0\n",
      "perulangan ke-1\n",
      "perulangan ke-2\n",
      "perulangan ke-3\n",
      "perulangan ke-4\n",
      "perulangan ke-5\n",
      "perulangan ke-6\n",
      "perulangan ke-7\n",
      "perulangan ke-8\n",
      "perulangan ke-9\n"
     ]
    }
   ],
   "source": [
    "for i in range(panjang):\n",
    "    print(f'perulangan ke-{i}')"
   ]
  },
  {
   "cell_type": "code",
   "execution_count": 17,
   "id": "a3603067",
   "metadata": {},
   "outputs": [
    {
     "name": "stdout",
     "output_type": "stream",
     "text": [
      "0\n",
      "1\n",
      "Penjumlahan dari index-0 dan index-1\n",
      "Penjumlahan dari index-1 dan index-2\n",
      "Penjumlahan dari index-2 dan index-3\n",
      "Penjumlahan dari index-3 dan index-4\n",
      "Penjumlahan dari index-4 dan index-5\n",
      "Penjumlahan dari index-5 dan index-6\n",
      "Penjumlahan dari index-6 dan index-7\n",
      "Penjumlahan dari index-7 dan index-8\n"
     ]
    }
   ],
   "source": [
    "for i in range(panjang):\n",
    "    if (i<2):\n",
    "        print(i)\n",
    "    else:\n",
    "        index1 = i-2\n",
    "        index2 = i-1\n",
    "        print(f'Penjumlahan dari index-{index1} dan index-{index2}')"
   ]
  },
  {
   "cell_type": "code",
   "execution_count": 21,
   "id": "14c02048",
   "metadata": {},
   "outputs": [
    {
     "name": "stdout",
     "output_type": "stream",
     "text": [
      "0 1 6050 9075 15125 24200 39325 63525 102850 166375 "
     ]
    }
   ],
   "source": [
    "for i in range(panjang):\n",
    "    if (i<2):\n",
    "        print(i,end=' ')\n",
    "    else:\n",
    "        angkaSekarang = angka1 + angka2\n",
    "        print(angkaSekarang,end=' ')\n",
    "    \n",
    "    #update 2 variabel bantuan\n",
    "    angka1 = angka2\n",
    "    angka2 = angkaSekarang"
   ]
  },
  {
   "cell_type": "markdown",
   "id": "70ead8cd",
   "metadata": {},
   "source": [
    "## Latihan 2 - Python: Fibonacci Non Rekursif"
   ]
  },
  {
   "cell_type": "code",
   "execution_count": 35,
   "id": "aa8dbf21",
   "metadata": {},
   "outputs": [
    {
     "name": "stdout",
     "output_type": "stream",
     "text": [
      "[1]\n",
      "[2]\n",
      "[3]\n",
      "[4]\n"
     ]
    }
   ],
   "source": [
    "a = print(fibonacci(1))\n",
    "print(fibonacci(2))\n",
    "print(fibonacci(3))\n",
    "print(fibonacci(4))"
   ]
  },
  {
   "cell_type": "code",
   "execution_count": 36,
   "id": "cf3632e6",
   "metadata": {},
   "outputs": [
    {
     "name": "stdout",
     "output_type": "stream",
     "text": [
      "[5]\n"
     ]
    }
   ],
   "source": [
    "def finonacci(n):\n",
    "    if n<1:\n",
    "        return [n]\n",
    "    \n",
    "    return fibonacci(n-1) + [n]\n",
    "\n",
    "print(fibonacci(5))"
   ]
  },
  {
   "cell_type": "code",
   "execution_count": 43,
   "id": "803606c8",
   "metadata": {},
   "outputs": [],
   "source": [
    "def fibonacci(n) :\n",
    "    if n<1:\n",
    "        return (n)\n",
    "    \n",
    "    listSebelumN = fibonacci(n-1)\n",
    "    angka1 = listSebelumN[-2] if len(listSebelumN[-2]) > 2 else 0\n",
    "    angka2 = listSebelumN[-1] if len(listSebelumN[-2]) > 2 else 1\n",
    "    \n",
    "    print('listSebelumN', listSebelumN)\n",
    "    print(f'angka1: {angka1}, angka2: {angka2}')\n",
    "    \n",
    "    return listSebelumN + [n]"
   ]
  },
  {
   "cell_type": "markdown",
   "id": "e6fd1514",
   "metadata": {},
   "source": [
    "## Latihan 3 - Membuat Program Bilangan Prima"
   ]
  },
  {
   "cell_type": "code",
   "execution_count": 5,
   "id": "cec32673",
   "metadata": {},
   "outputs": [],
   "source": [
    "def is_prima (x):\n",
    "    for i in range(2,x):\n",
    "        if x % i == 0:\n",
    "            return False\n",
    "        \n",
    "    return True"
   ]
  },
  {
   "cell_type": "code",
   "execution_count": 6,
   "id": "5debc512",
   "metadata": {},
   "outputs": [
    {
     "data": {
      "text/plain": [
       "True"
      ]
     },
     "execution_count": 6,
     "metadata": {},
     "output_type": "execute_result"
    }
   ],
   "source": [
    "is_prima (5)"
   ]
  },
  {
   "cell_type": "code",
   "execution_count": 7,
   "id": "73f49b2c",
   "metadata": {},
   "outputs": [],
   "source": [
    "def cari_bilangan_prima (awal,akhir):\n",
    "    list_bilangan_prima = []\n",
    "    \n",
    "    for x in range(awal,akhir+1):\n",
    "        if is_prima(x):\n",
    "            list_bilangan_prima.append(x)\n",
    "            \n",
    "    return list_bilangan_prima"
   ]
  },
  {
   "cell_type": "code",
   "execution_count": 8,
   "id": "23390d32",
   "metadata": {},
   "outputs": [
    {
     "name": "stdout",
     "output_type": "stream",
     "text": [
      "[1, 2, 3, 5, 7, 11, 13, 17, 19, 23, 29, 31, 37]\n"
     ]
    }
   ],
   "source": [
    "print(cari_bilangan_prima(1,40))"
   ]
  },
  {
   "cell_type": "markdown",
   "id": "92930902",
   "metadata": {},
   "source": [
    "## Latihan 4 - Angka Terbesar dari 3 Angka"
   ]
  },
  {
   "cell_type": "code",
   "execution_count": 1,
   "id": "f0abe360",
   "metadata": {},
   "outputs": [
    {
     "name": "stdout",
     "output_type": "stream",
     "text": [
      "[3, 10, 15]\n"
     ]
    }
   ],
   "source": [
    "deret = [10,15,3]\n",
    "\n",
    "deret.sort()\n",
    "print(deret)"
   ]
  },
  {
   "cell_type": "code",
   "execution_count": 4,
   "id": "0bfa1587",
   "metadata": {},
   "outputs": [
    {
     "name": "stdout",
     "output_type": "stream",
     "text": [
      "Masukan nilai a:11\n",
      "Masukan nilai b:16\n",
      "Masukan nilai c:3\n"
     ]
    }
   ],
   "source": [
    "a = int(input('Masukan nilai a:'))\n",
    "b = int(input('Masukan nilai b:'))\n",
    "c = int(input('Masukan nilai c:'))"
   ]
  },
  {
   "cell_type": "code",
   "execution_count": 5,
   "id": "9fe23950",
   "metadata": {},
   "outputs": [
    {
     "name": "stdout",
     "output_type": "stream",
     "text": [
      "B angka terbesar\n"
     ]
    }
   ],
   "source": [
    "if a>b and a>c:\n",
    "    print('A angka terbesar')\n",
    "if b>a and b>c:\n",
    "    print('B angka terbesar')\n",
    "else:\n",
    "    print('C angka terbesar')"
   ]
  },
  {
   "cell_type": "code",
   "execution_count": 6,
   "id": "771b6c46",
   "metadata": {},
   "outputs": [
    {
     "name": "stdout",
     "output_type": "stream",
     "text": [
      "C angka terkecil\n"
     ]
    }
   ],
   "source": [
    "if a<b and a<c:\n",
    "    print('A angka terkecil')\n",
    "if b<a and b<c:\n",
    "    print('B angka terkecil')\n",
    "else:\n",
    "    print('C angka terkecil')"
   ]
  },
  {
   "cell_type": "code",
   "execution_count": 7,
   "id": "43bb76d6",
   "metadata": {},
   "outputs": [
    {
     "name": "stdout",
     "output_type": "stream",
     "text": [
      "A angka kedua\n"
     ]
    }
   ],
   "source": [
    "if a>b and a<c or a<b and a>c:\n",
    "    print('A angka kedua')\n",
    "if b>a and b<c or b<a and b>c:\n",
    "    print('B angka kedua')\n",
    "if c>a and c<b or c<a and c>b:\n",
    "    print('C angka kedua')\n",
    "    \n",
    "# if b>a>c or c>a>b:"
   ]
  },
  {
   "cell_type": "code",
   "execution_count": 15,
   "id": "0dd4a83c",
   "metadata": {},
   "outputs": [],
   "source": [
    "def angka_terbesar (a,b,c):\n",
    "    if a>b and a>c:\n",
    "        return a\n",
    "    if b>a and b>c:\n",
    "        return b\n",
    "    else:\n",
    "        return c\n",
    "    \n",
    "def angka_tengah (a,b,c):\n",
    "    if b>a>c or c>a>b:\n",
    "        return a\n",
    "    if a>b>c or c>b>a:\n",
    "        return b\n",
    "    else:\n",
    "        return c\n",
    "    \n",
    "def angka_terkecil (a,b,c):\n",
    "    if a<b and a<c:\n",
    "        return a\n",
    "    if b<a and b<c:\n",
    "        return b\n",
    "    else:\n",
    "        return c"
   ]
  },
  {
   "cell_type": "code",
   "execution_count": 16,
   "id": "c3d2a653",
   "metadata": {},
   "outputs": [
    {
     "name": "stdout",
     "output_type": "stream",
     "text": [
      "Urutan angka 16,11, dan 3\n"
     ]
    }
   ],
   "source": [
    "i1 = angka_terbesar(a,b,c)\n",
    "i2 = angka_tengah(a,b,c)\n",
    "i3 = angka_terkecil(a,b,c)\n",
    "\n",
    "print(f'Urutan angka {i1},{i2}, dan {i3}')"
   ]
  },
  {
   "cell_type": "markdown",
   "id": "a8d287ed",
   "metadata": {},
   "source": [
    "## Latihan 5 - Aplikasi Bilangan Ganjil Genap"
   ]
  },
  {
   "cell_type": "code",
   "execution_count": 19,
   "id": "2b768b69",
   "metadata": {},
   "outputs": [],
   "source": [
    "def ganjil_genap(a):\n",
    "    if a%2==0:\n",
    "        print('Bilangan A adalah angka genap')\n",
    "    else:\n",
    "        print('Bilangan A adalah angka ganjil')"
   ]
  },
  {
   "cell_type": "code",
   "execution_count": 22,
   "id": "c8e56f14",
   "metadata": {},
   "outputs": [
    {
     "name": "stdout",
     "output_type": "stream",
     "text": [
      "Masukan Angka:10\n",
      "Bilangan A adalah angka genap\n"
     ]
    }
   ],
   "source": [
    "angka = int(input('Masukan Angka:'))\n",
    "\n",
    "ganjil_genap(angka)"
   ]
  },
  {
   "cell_type": "markdown",
   "id": "7fabfe28",
   "metadata": {},
   "source": [
    "#### Menampilkan list bilangan genap pada range tertentu"
   ]
  },
  {
   "cell_type": "code",
   "execution_count": 33,
   "id": "6b1368b4",
   "metadata": {},
   "outputs": [
    {
     "name": "stdout",
     "output_type": "stream",
     "text": [
      "Masukan nilai awal dan akhir :\n",
      "Masukan nilai awal:10\n",
      "Masukan nilai akhir:50\n",
      "Tampilkan bilangan\n",
      "1. Ganjil\n",
      "2. Genap\n",
      "Pilihan 1 untuk ganjil dan 2 untuk genap:1\n",
      "11 13 15 17 19 21 23 25 27 29 31 33 35 37 39 41 43 45 47 49 \n"
     ]
    }
   ],
   "source": [
    "print('Masukan nilai awal dan akhir :')\n",
    "\n",
    "nilai_awal = int(input('Masukan nilai awal:'))\n",
    "nilai_akhir = int(input('Masukan nilai akhir:'))\n",
    "\n",
    "print('''Tampilkan bilangan\n",
    "1. Ganjil\n",
    "2. Genap''')\n",
    "\n",
    "pilihan = int(input('Pilihan 1 untuk ganjil dan 2 untuk genap:'))\n",
    "\n",
    "#pilihan angka tidak satu atau 2\n",
    "if pilihan not in [1,2]:\n",
    "    print('Pilihan salah')\n",
    "elif pilihan in [1]:\n",
    "    for x in range(nilai_awal,nilai_akhir+1):\n",
    "        if pilihan == 1 and x%2==1:\n",
    "            print(x, end=' ')\n",
    "        elif pilihan == 2 and x%2==0:\n",
    "            print(x, end=' ')\n",
    "    else:\n",
    "        \n",
    "        print('')"
   ]
  },
  {
   "cell_type": "markdown",
   "id": "1ec5be4d",
   "metadata": {},
   "source": [
    "## Latihan 6 - 4 Cara Menghitung Perpangkatan 4"
   ]
  },
  {
   "cell_type": "code",
   "execution_count": 39,
   "id": "7a6e0043",
   "metadata": {},
   "outputs": [
    {
     "name": "stdout",
     "output_type": "stream",
     "text": [
      "Masukan bilangan :10\n",
      "Masukan pangkat :2\n"
     ]
    }
   ],
   "source": [
    "bilangan = int(input('Masukan bilangan :'))\n",
    "pangkat = int(input('Masukan pangkat :'))"
   ]
  },
  {
   "cell_type": "code",
   "execution_count": null,
   "id": "416f1d01",
   "metadata": {},
   "outputs": [],
   "source": [
    "## Cara 1"
   ]
  },
  {
   "cell_type": "code",
   "execution_count": 36,
   "id": "be4d5148",
   "metadata": {},
   "outputs": [],
   "source": [
    "def pangkat(bilangan,pangkat):\n",
    "    return bilangan**pangkat"
   ]
  },
  {
   "cell_type": "code",
   "execution_count": 37,
   "id": "f62051ec",
   "metadata": {},
   "outputs": [
    {
     "data": {
      "text/plain": [
       "100"
      ]
     },
     "execution_count": 37,
     "metadata": {},
     "output_type": "execute_result"
    }
   ],
   "source": [
    "pangkat(10,2)"
   ]
  },
  {
   "cell_type": "code",
   "execution_count": null,
   "id": "887d6f96",
   "metadata": {},
   "outputs": [],
   "source": [
    "## Cara 2"
   ]
  },
  {
   "cell_type": "code",
   "execution_count": 41,
   "id": "990c2e2e",
   "metadata": {},
   "outputs": [
    {
     "data": {
      "text/plain": [
       "100"
      ]
     },
     "execution_count": 41,
     "metadata": {},
     "output_type": "execute_result"
    }
   ],
   "source": [
    "pow(bilangan, pangkat)"
   ]
  },
  {
   "cell_type": "code",
   "execution_count": 42,
   "id": "95f9380a",
   "metadata": {},
   "outputs": [],
   "source": [
    "## Cara 3"
   ]
  },
  {
   "cell_type": "code",
   "execution_count": 45,
   "id": "59200ee4",
   "metadata": {},
   "outputs": [
    {
     "name": "stdout",
     "output_type": "stream",
     "text": [
      "100\n"
     ]
    }
   ],
   "source": [
    "hasil = bilangan\n",
    "\n",
    "for x in range(pangkat-1):\n",
    "    hasil *= bilangan\n",
    "    \n",
    "print(hasil)"
   ]
  },
  {
   "cell_type": "code",
   "execution_count": 46,
   "id": "d56530a5",
   "metadata": {},
   "outputs": [],
   "source": [
    "## Cara 4"
   ]
  },
  {
   "cell_type": "code",
   "execution_count": 48,
   "id": "76cf5c27",
   "metadata": {},
   "outputs": [
    {
     "data": {
      "text/plain": [
       "100"
      ]
     },
     "execution_count": 48,
     "metadata": {},
     "output_type": "execute_result"
    }
   ],
   "source": [
    "def hitung_pangkat(bilangan, pangkat):\n",
    "    if pangkat>1:\n",
    "        return bilangan*hitung_pangkat(bilangan, pangkat-1)\n",
    "    return bilangan\n",
    "\n",
    "hasil = hitung_pangkat(bilangan, pangkat)\n",
    "hasil"
   ]
  },
  {
   "cell_type": "markdown",
   "id": "2578bbca",
   "metadata": {},
   "source": [
    "## Latihan 7 - 3 Cara Menghitung Faktorial"
   ]
  },
  {
   "cell_type": "code",
   "execution_count": 59,
   "id": "868ceaa4",
   "metadata": {},
   "outputs": [
    {
     "name": "stdout",
     "output_type": "stream",
     "text": [
      "Masukan bilangan :3\n",
      "3! : 6\n"
     ]
    }
   ],
   "source": [
    "# Cara 1\n",
    "bilangan = int(input('Masukan bilangan :'))\n",
    "faktorial = 1\n",
    "\n",
    "for x in range(1,bilangan+1):\n",
    "    faktorial *= x\n",
    "    \n",
    "print(f'{bilangan}! : {faktorial}' )"
   ]
  },
  {
   "cell_type": "code",
   "execution_count": 60,
   "id": "e34301e3",
   "metadata": {},
   "outputs": [
    {
     "name": "stdout",
     "output_type": "stream",
     "text": [
      "3! : 6\n"
     ]
    }
   ],
   "source": [
    "# Cara 2\n",
    "def hitung_faktorial(bilangan):\n",
    "    if bilangan > 2:\n",
    "        return bilangan*hitung_faktorial(bilangan-1)\n",
    "    return 2\n",
    "\n",
    "faktorial = hitung_faktorial(bilangan)\n",
    "print(f'{bilangan}! : {faktorial}' )"
   ]
  },
  {
   "cell_type": "code",
   "execution_count": 61,
   "id": "4a3d0c64",
   "metadata": {},
   "outputs": [
    {
     "data": {
      "text/plain": [
       "6"
      ]
     },
     "execution_count": 61,
     "metadata": {},
     "output_type": "execute_result"
    }
   ],
   "source": [
    "# Cara 3\n",
    "import math\n",
    "bil = math.factorial(bilangan)\n",
    "\n",
    "bil"
   ]
  },
  {
   "cell_type": "markdown",
   "id": "03249a30",
   "metadata": {},
   "source": [
    "## Latihan 8 - Mencari Nilai Maksimum dan Minimum dengan Perulangan (For dan Rekursif)"
   ]
  },
  {
   "cell_type": "code",
   "execution_count": 72,
   "id": "a2bc1448",
   "metadata": {},
   "outputs": [
    {
     "name": "stdout",
     "output_type": "stream",
     "text": [
      "[10, 3, 15, 2, 4, 11, 50, 7]\n",
      "Nilai terbesar: 50\n",
      "Nilai terkecil: 2\n"
     ]
    }
   ],
   "source": [
    "## Cara 1\n",
    "\n",
    "a = [10,3,15,2,4,11,50,7]\n",
    "b = [12,5,7,11,50,2,3,7]\n",
    "print(a)\n",
    "print(f'Nilai terbesar: {max(a)}')\n",
    "print(f'Nilai terkecil: {min(a)}')"
   ]
  },
  {
   "cell_type": "code",
   "execution_count": 86,
   "id": "3b980e36",
   "metadata": {},
   "outputs": [],
   "source": [
    "def nilai_max(deret_bilangan):\n",
    "    nilai_terbesar = deret_bilangan[0]\n",
    "\n",
    "    for nilai in deret_bilangan:\n",
    "        if nilai > nilai_terbesar:\n",
    "            nilai = nilai_terbesar\n",
    "            \n",
    "    return nilai_terbesar\n",
    "        \n",
    "def nilai_min(deret_bilangan):\n",
    "    nilai_terkecil = deret_bilangan[0]\n",
    "    \n",
    "    for nilai in deret_bilangan:\n",
    "        if nilai < nilai_terkecil:\n",
    "            nilai = nilai_terkecil\n",
    "            \n",
    "    return nilai_terkecil"
   ]
  },
  {
   "cell_type": "code",
   "execution_count": 87,
   "id": "6d0eee81",
   "metadata": {},
   "outputs": [
    {
     "data": {
      "text/plain": [
       "12"
      ]
     },
     "execution_count": 87,
     "metadata": {},
     "output_type": "execute_result"
    }
   ],
   "source": [
    "nilai_min(b)"
   ]
  },
  {
   "cell_type": "code",
   "execution_count": 112,
   "id": "feddcaef",
   "metadata": {},
   "outputs": [],
   "source": [
    "## Cara 2\n",
    "def nilai_maks(list):\n",
    "    nilai_terbesar = list[0]\n",
    "\n",
    "    if len(list) > 1:\n",
    "        #proses rekursif\n",
    "        next_nilai_terbesar = nilai_maks(list[1:])\n",
    "        \n",
    "        if nilai_terbesar < next_nilai_terbesar:\n",
    "            nilai_terbesar = next_nilai_terbesar\n",
    "            \n",
    "    return nilai_terbesar"
   ]
  },
  {
   "cell_type": "code",
   "execution_count": 113,
   "id": "bbcdc696",
   "metadata": {},
   "outputs": [
    {
     "data": {
      "text/plain": [
       "50"
      ]
     },
     "execution_count": 113,
     "metadata": {},
     "output_type": "execute_result"
    }
   ],
   "source": [
    "a = [10,3,15,2,4,11,50,7]\n",
    "\n",
    "nilai_maks(a)"
   ]
  },
  {
   "cell_type": "markdown",
   "id": "fb6b96c0",
   "metadata": {},
   "source": [
    "## Latihan 9 - Program Menghitung Huruf Vokal (Pakai 2 Cara) "
   ]
  },
  {
   "cell_type": "code",
   "execution_count": 141,
   "id": "5e15c811",
   "metadata": {},
   "outputs": [
    {
     "name": "stdout",
     "output_type": "stream",
     "text": [
      "Masukan teks disini :Baa do aku tak\n",
      "Total Karakter : 14\n",
      "Total Huruf Vokal : 6\n",
      "Total Huruf Vokal :\n",
      "    a -> 4,\n",
      "    i -> 0,\n",
      "    u -> 1,\n",
      "    e -> 0,\n",
      "    o -> 1\n"
     ]
    }
   ],
   "source": [
    "## Cara 1\n",
    "## Masukan teks\n",
    "teks = str(input('Masukan teks disini :').lower())\n",
    "\n",
    "huruf_vokal = {\n",
    "    'a' : 0,\n",
    "    'i' : 0,\n",
    "    'u' : 0,\n",
    "    'e' : 0,\n",
    "    'o' : 0,\n",
    "}\n",
    "\n",
    "total_huruf_vokal = 0\n",
    "\n",
    "for car in teks:\n",
    "    if car in ['a','i','u','e','o']:\n",
    "        huruf_vokal[car] += 1\n",
    "        total_huruf_vokal +=1\n",
    "\n",
    "print(f'Total Karakter : {len(teks)}')\n",
    "print(f'Total Huruf Vokal : {total_huruf_vokal}')\n",
    "print(f'''Total Huruf Vokal :\n",
    "    a -> {huruf_vokal['a']},\n",
    "    i -> {huruf_vokal['i']},\n",
    "    u -> {huruf_vokal['u']},\n",
    "    e -> {huruf_vokal['e']},\n",
    "    o -> {huruf_vokal['o']}''')"
   ]
  },
  {
   "cell_type": "code",
   "execution_count": 142,
   "id": "71c1bd89",
   "metadata": {},
   "outputs": [
    {
     "name": "stdout",
     "output_type": "stream",
     "text": [
      "3\n",
      "2\n"
     ]
    },
    {
     "data": {
      "text/plain": [
       "6"
      ]
     },
     "execution_count": 142,
     "metadata": {},
     "output_type": "execute_result"
    }
   ],
   "source": [
    "#Cara 2\n",
    "print('Surabaya'.count('a'))\n",
    "print('Rata-rata'.count('ta'))\n",
    "\n",
    "for vokal in huruf_vokal.keys():\n",
    "    huruf_vokal[vokal] = teks.count(vokal)\n",
    "    \n",
    "total_vokal = sum(huruf_vokal.values())\n",
    "total_vokal"
   ]
  },
  {
   "cell_type": "markdown",
   "id": "3293f325",
   "metadata": {},
   "source": [
    "## Latihan 10 - Prigrim Mingibih Hirif Vikil"
   ]
  },
  {
   "cell_type": "code",
   "execution_count": 146,
   "id": "169dba56",
   "metadata": {},
   "outputs": [
    {
     "name": "stdout",
     "output_type": "stream",
     "text": [
      "Masukan kalimat yang akan diubah :Adada UjsaoOOoo\n",
      "Masukan huruf pengganti vokal:a\n",
      "adada ajsaaaaaa\n"
     ]
    }
   ],
   "source": [
    "teks2 = str(input('Masukan kalimat yang akan diubah :'))\n",
    "pengganti = str(input('Masukan huruf pengganti vokal:'))\n",
    "\n",
    "#Opsi 1 - Menggunakan fungsi replace\n",
    "#teks2 = teks2.replace('a',pengganti)\n",
    "#teks2 = teks2.replace('i',pengganti)\n",
    "#teks2 = teks2.replace('u',pengganti)\n",
    "#teks2 = teks2.replace('e',pengganti)\n",
    "#teks2 = teks2.replace('o',pengganti)\n",
    "\n",
    "#Opsi 2 - Menggunakan fungsi replace dengan looping\n",
    "for i in 'aiueoAIUEO': #--> Insensitice Cases\n",
    "    teks2 = teks2.replace(i,pengganti)\n",
    "\n",
    "print(teks2)"
   ]
  },
  {
   "cell_type": "markdown",
   "id": "4e0d5326",
   "metadata": {},
   "source": [
    "## Latihan 11 - Program Konversi Satuan Lusin, Kodi, dan Gross"
   ]
  },
  {
   "cell_type": "code",
   "execution_count": 159,
   "id": "b172d5d4",
   "metadata": {},
   "outputs": [
    {
     "name": "stdout",
     "output_type": "stream",
     "text": [
      "Masukan jumlah barang :90\n",
      "Jumlah barang dalam lusin : 7.5 lusin\n"
     ]
    }
   ],
   "source": [
    "#Konversi Lusin\n",
    "jumlah_barang = int(input('Masukan jumlah barang :'))\n",
    "konversi_lusin = jumlah_barang/12\n",
    "if jumlah_barang % 12 == 0:\n",
    "    konversi_lusin = int(konversi_lusin)\n",
    "\n",
    "print(f'Jumlah barang dalam lusin : {round(konversi_lusin,2)} lusin')"
   ]
  },
  {
   "cell_type": "code",
   "execution_count": 160,
   "id": "c971ce18",
   "metadata": {},
   "outputs": [
    {
     "name": "stdout",
     "output_type": "stream",
     "text": [
      "Masukan jumlah barang :90\n",
      "Jumlah barang dalam kodi : 4.5 kodi\n"
     ]
    }
   ],
   "source": [
    "#Konversi Lusin\n",
    "jumlah_barang = int(input('Masukan jumlah barang :'))\n",
    "konversi_kodi = jumlah_barang/20\n",
    "if jumlah_barang % 20 == 0:\n",
    "    konversi_kodi = int(konversi_kodi)\n",
    "\n",
    "print(f'Jumlah barang dalam kodi : {round(konversi_kodi,2)} kodi')"
   ]
  },
  {
   "cell_type": "code",
   "execution_count": 158,
   "id": "e7d93d9c",
   "metadata": {},
   "outputs": [
    {
     "name": "stdout",
     "output_type": "stream",
     "text": [
      "Masukan jumlah barang :203\n",
      "Jumlah barang dalam gross : 1.41 gross\n"
     ]
    }
   ],
   "source": [
    "#Konversi Gross\n",
    "jumlah_barang = int(input('Masukan jumlah barang :'))\n",
    "konversi_gross = jumlah_barang/144\n",
    "if jumlah_barang % 144 == 0:\n",
    "    konversi_gross = int(konversi_gross)\n",
    "\n",
    "print(f'Jumlah barang dalam gross : {round(konversi_gross,2)} gross')"
   ]
  },
  {
   "cell_type": "markdown",
   "id": "ad022efb",
   "metadata": {},
   "source": [
    "## Mencari Mean, Median, dan Modus"
   ]
  },
  {
   "cell_type": "code",
   "execution_count": 192,
   "id": "c9538103",
   "metadata": {},
   "outputs": [
    {
     "name": "stdout",
     "output_type": "stream",
     "text": [
      "Masukan angka ke dalam list (pisahkan dengan koma) :12,5,4,3,2\n"
     ]
    },
    {
     "data": {
      "text/plain": [
       "[12, 5, 4, 3, 2]"
      ]
     },
     "execution_count": 192,
     "metadata": {},
     "output_type": "execute_result"
    }
   ],
   "source": [
    "# Cara 1 - Mencari dengan manual\n",
    "bil = input('Masukan angka ke dalam list (pisahkan dengan koma) :')\n",
    "data = []\n",
    "\n",
    "for i in bil.split(','):\n",
    "    data.append(int(i))\n",
    "    \n",
    "data"
   ]
  },
  {
   "cell_type": "markdown",
   "id": "9b813393",
   "metadata": {},
   "source": [
    "#### Fungsi Mean"
   ]
  },
  {
   "cell_type": "code",
   "execution_count": 199,
   "id": "a04fa1f2",
   "metadata": {},
   "outputs": [
    {
     "name": "stdout",
     "output_type": "stream",
     "text": [
      "Menuggunakan fungsi manual: 5.2\n",
      "Menuggunakan fungsi statistics: 5.2\n"
     ]
    }
   ],
   "source": [
    "#menghitung rata-rata manual\n",
    "def rata_rata(a):\n",
    "    return sum(a)/len(a)\n",
    "print(f'Menuggunakan fungsi manual: {rata_rata(data)}')\n",
    "\n",
    "#menghitung rata-rata dengan modul \"statistics\"\n",
    "import statistics as sta\n",
    "meandata = sta.mean(data)\n",
    "print(f'Menuggunakan fungsi statistics: {meandata}')"
   ]
  },
  {
   "cell_type": "markdown",
   "id": "3fcf74de",
   "metadata": {},
   "source": [
    "#### Fungsi Median"
   ]
  },
  {
   "cell_type": "code",
   "execution_count": 218,
   "id": "632932a9",
   "metadata": {},
   "outputs": [
    {
     "name": "stdout",
     "output_type": "stream",
     "text": [
      "Mencari nilai tengah secara manual: 4\n",
      "Mencari nilai tengah secara statistics: 4\n"
     ]
    }
   ],
   "source": [
    "#menghitung median manual\n",
    "data3 = [4,5,2,3,7,1,7]\n",
    "dataurut = data3.sort() #bisa menggunakan sorted(data3)\n",
    "data3\n",
    "\n",
    "#mengambil nilai tengah\n",
    "def nilaitengah(deret):\n",
    "    deret.sort() # urutkan data terlebih dahulu\n",
    "    n = len(deret) # hitung panjang deret angka\n",
    "    i_tengah = n // 2 # ambil nilai tengah dari data (bulatkan ke bawah)\n",
    "    \n",
    "    if n % 2 == 1:\n",
    "        return deret[i_tengah] # untuk bilangan ganjil\n",
    "    \n",
    "    if n % 2 == 0:\n",
    "        return (deret[i_tengah-1] + deret[i_tengah]) / 2 # untuk bilangan ganjil\n",
    "\n",
    "print(f'Mencari nilai tengah secara manual: {nilaitengah(data3)}')\n",
    "\n",
    "#mencari median dengan modul stats\n",
    "import statistics as sta\n",
    "med = sta.median(data3)\n",
    "\n",
    "print(f'Mencari nilai tengah secara statistics: {med}')\n"
   ]
  },
  {
   "cell_type": "markdown",
   "id": "1a2c4625",
   "metadata": {},
   "source": [
    "#### Fungsi Modus"
   ]
  },
  {
   "cell_type": "code",
   "execution_count": 233,
   "id": "3667a649",
   "metadata": {},
   "outputs": [
    {
     "name": "stdout",
     "output_type": "stream",
     "text": [
      "Masukan list deret bilangan (pisahkan dengan koma) :1,2,5,5,1,3,5\n",
      "Nilai modus dari deret tersebut (secara manual) adalah: 1\n",
      "Nilai modus dari deret tersebut (secara statistic) adalah: 5\n"
     ]
    }
   ],
   "source": [
    "#mencari nilai modus\n",
    "def nilaiterbanyak(deret):\n",
    "    #directory untuk mencari nilai terbanyak\n",
    "    peta_directory = {}\n",
    "    \n",
    "    #perulangan satu-satu untuk setiap bilangan\n",
    "    for bilangan in deret:\n",
    "        #periksa apakah sudah pernah muncul atau belum\n",
    "        if bilangan in peta_directory:\n",
    "            peta_directory[bilangan] += 1\n",
    "        else :\n",
    "            peta_directory[bilangan] = 1\n",
    "            \n",
    "    # mencari kemunculan terbanyak\n",
    "    bilangan_terbesar = deret[0] #ambil angka pertama sebagai yang terbanyak\n",
    "    for bilangan in peta_directory.keys():\n",
    "        jumlah = peta_directory[bilangan]\n",
    "        \n",
    "    if jumlah > peta_directory[bilangan_terbesar]:\n",
    "        bilangan_terbesar = bilangan\n",
    "    \n",
    "    return bilangan_terbesar\n",
    "\n",
    "inputan = input('Masukan list deret bilangan (pisahkan dengan koma) :')\n",
    "datainput = []\n",
    "\n",
    "for i in inputan.split(','):\n",
    "    datainput.append(int(i))\n",
    "    \n",
    "print(f'Nilai modus dari deret tersebut (secara manual) adalah: {nilaiterbanyak(datainput)}')\n",
    "\n",
    "#mencari modus dengan fungsi statistics\n",
    "import statistics as sta\n",
    "modus = sta.mode(datainput)\n",
    "print(f'Nilai modus dari deret tersebut (secara statistic) adalah: {modus}')"
   ]
  },
  {
   "cell_type": "markdown",
   "id": "011cca79",
   "metadata": {},
   "source": [
    "## Latihan 12 - Program Menghitung Standar Deviasi (Simpangan Baku)"
   ]
  },
  {
   "cell_type": "code",
   "execution_count": 244,
   "id": "ca39d9b1",
   "metadata": {},
   "outputs": [
    {
     "data": {
      "text/plain": [
       "6.123724356957945"
      ]
     },
     "execution_count": 244,
     "metadata": {},
     "output_type": "execute_result"
    }
   ],
   "source": [
    "#Cara 1 - Menghitung simpangan baku secara manual\n",
    "import statistics as sta\n",
    "import numpy as np\n",
    "data = [90,81,88,85,90,92,77,75,81]\n",
    "rerata = sta.mean(data) #rata-rata dari suatu list\n",
    "rerata\n",
    "\n",
    "jumlah = 0\n",
    "\n",
    "for i in data:\n",
    "    jumlah += (rerata-i)**2 # iterasi untuk menghitung seluruh selisih data untuk mendapatkan varian\n",
    "    \n",
    "varian = jumlah/(len(data)-1)\n",
    "SD = np.sqrt(varian)\n",
    "SD"
   ]
  },
  {
   "cell_type": "code",
   "execution_count": 248,
   "id": "68fec4ff",
   "metadata": {},
   "outputs": [
    {
     "name": "stdout",
     "output_type": "stream",
     "text": [
      "6.12\n"
     ]
    }
   ],
   "source": [
    "#Cara 2 - Menghitung simpangan baku dengan stastisc.stdev\n",
    "import statistics as sta\n",
    "import numpy as np\n",
    "SD2 = sta.stdev(data)\n",
    "print(round(SD2,2))"
   ]
  },
  {
   "cell_type": "markdown",
   "id": "66a4f378",
   "metadata": {},
   "source": [
    "## Latihan 13 - Membuat Kalkulator Sederhana"
   ]
  },
  {
   "cell_type": "code",
   "execution_count": 306,
   "id": "412ce86a",
   "metadata": {
    "scrolled": true
   },
   "outputs": [
    {
     "name": "stdout",
     "output_type": "stream",
     "text": [
      "=========================\n",
      "Operasi Matematika \n",
      "1. Jumlah (+) \n",
      "2. Kurang (-) \n",
      "3. Kali (x) \n",
      "4. Bagi (/) \n",
      "=========================\n",
      "Pilih operasi matematika (1,2,3,4) :3\n",
      "Masukan bilangan pertama :5\n",
      "Masukan bilangan kedua :125\n",
      "=========================\n",
      "625\n"
     ]
    }
   ],
   "source": [
    "#Membuat inputan user\n",
    "print(\"=\"*25)\n",
    "print('Operasi Matematika \\n1. Jumlah (+) \\n2. Kurang (-) \\n3. Kali (x) \\n4. Bagi (/) ')\n",
    "print(\"=\"*25)\n",
    "\n",
    "operand = int(input(\"Pilih operasi matematika (1,2,3,4) :\"))\n",
    "satu = int(input(\"Masukan bilangan pertama :\"))\n",
    "dua = int(input(\"Masukan bilangan kedua :\"))\n",
    "\n",
    "print(\"=\"*25)\n",
    "#operasi bercabang untuk setiap operasinya\n",
    "if operand == 1:\n",
    "    hasil2 = satu + dua\n",
    "    print(hasil2)\n",
    "elif operand == 2:\n",
    "    hasil2 = satu - dua\n",
    "    print(hasil2)\n",
    "elif operand == 3:\n",
    "    hasil2 = satu * dua\n",
    "    print(hasil2)\n",
    "elif operand == 4:\n",
    "    hasil2 = satu / dua\n",
    "    print(hasil2)\n",
    "else:\n",
    "    print('Wrong input')"
   ]
  },
  {
   "cell_type": "markdown",
   "id": "c5884d3c",
   "metadata": {},
   "source": [
    "## Latihan 14 - Membuat Kalkulator Terbilang (Sederhana)"
   ]
  },
  {
   "cell_type": "code",
   "execution_count": 326,
   "id": "7d2b3648",
   "metadata": {},
   "outputs": [
    {
     "name": "stdout",
     "output_type": "stream",
     "text": [
      "Tuliskan statement :lima dikali (enam dibagi (dua ditambah tiga))\n",
      "lima dikali (enam dibagi (dua ditambah tiga))\n",
      "5 * (6 / (2 + 3))\n",
      "Hasil : 6.0\n"
     ]
    }
   ],
   "source": [
    "#membuat inputan user\n",
    "pernyataan = str(input('Tuliskan statement :'))\n",
    "\n",
    "#konversi tulisan menjadi angka\n",
    "pernyataan_konversi = pernyataan \\\n",
    "    .replace('satu','1')\\\n",
    "    .replace('dua','2')\\\n",
    "    .replace('tiga','3')\\\n",
    "    .replace('empat','4')\\\n",
    "    .replace('lima','5')\\\n",
    "    .replace('enam','6')\\\n",
    "    .replace('tujuh','7')\\\n",
    "    .replace('delapan','8')\\\n",
    "    .replace('sembilan','9')\\\n",
    "    .replace('ditambah','+')\\\n",
    "    .replace('dikurang','-')\\\n",
    "    .replace('dikali','*')\\\n",
    "    .replace('dibagi','/')\n",
    "print(pernyataan)\n",
    "print(pernyataan_konversi)\n",
    "hasil = eval(pernyataan_konversi)\n",
    "print(f'Hasil : {hasil}')"
   ]
  },
  {
   "cell_type": "markdown",
   "id": "ddf957dd",
   "metadata": {},
   "source": [
    "## Latihan 15 - Program Memeriksa dan Mencari Tahun Kabisat"
   ]
  },
  {
   "cell_type": "code",
   "execution_count": 330,
   "id": "d5395bbb",
   "metadata": {},
   "outputs": [
    {
     "name": "stdout",
     "output_type": "stream",
     "text": [
      "Tahun 1999 bukan tahun kabisat\n"
     ]
    }
   ],
   "source": [
    "# Membuat pernyataan inti\n",
    "tahun = 1999\n",
    "\n",
    "habis_dibagi_400 = tahun % 400 == 0\n",
    "habis_dibagi_100 = tahun % 100 == 0\n",
    "habis_dibagi_4 = tahun % 4 == 0\n",
    "\n",
    "# Membuat logika percabangan\n",
    "if habis_dibagi_400:\n",
    "    print(f'Tahun {tahun} adalah tahun kabisat')\n",
    "if habis_dibagi_4 and not habis_dibagi_100:\n",
    "    print(f'Tahun {tahun} adalah tahun kabisat')\n",
    "else:\n",
    "    print(f'Tahun {tahun} bukan tahun kabisat')\n",
    "    \n",
    "# Logika sederhana\n",
    "#if habis_dibagi_400 or (habis_dibagi_4 and not habis_dibagi_100):\n",
    "#  print(f'{tahun} tahun kabisat')\n",
    "#else:\n",
    "#  print(f'{tahun} bukan tahun kabisat')"
   ]
  },
  {
   "cell_type": "code",
   "execution_count": 340,
   "id": "726e3057",
   "metadata": {},
   "outputs": [
    {
     "name": "stdout",
     "output_type": "stream",
     "text": [
      "Masukan tahun awal :2000\n",
      "Masukan tahun akhir :2040\n",
      "Tahun kabisat:\n",
      "[2000, 2004, 2008, 2012, 2016, 2020, 2024, 2028, 2032, 2036, 2040]\n"
     ]
    }
   ],
   "source": [
    "# Mencari tahun kabisat dari tahun x ke tahun y\n",
    "def apakah_kabisat(tahun):\n",
    "    habis_dibagi_400 = tahun % 400 == 0\n",
    "    habis_dibagi_100 = tahun % 100 == 0\n",
    "    habis_dibagi_4 = tahun % 4 == 0\n",
    "\n",
    "    return habis_dibagi_400 or (habis_dibagi_4 and not habis_dibagi_100)\n",
    "    \n",
    "tahun_awal = int(input('Masukan tahun awal :'))\n",
    "tahun_akhir = int(input('Masukan tahun akhir :'))\n",
    "\n",
    "tahun_kabisat = []\n",
    "\n",
    "for tahun in range(tahun_awal,tahun_akhir+1):\n",
    "    if apakah_kabisat(tahun):\n",
    "        tahun_kabisat.append(tahun)\n",
    "        \n",
    "print('Tahun kabisat:')\n",
    "print(tahun_kabisat)"
   ]
  },
  {
   "cell_type": "markdown",
   "id": "c177f893",
   "metadata": {},
   "source": [
    "## Latihan 16 - Cara Mudah Membuat Game Tebak Angka\""
   ]
  },
  {
   "cell_type": "code",
   "execution_count": 350,
   "id": "cc05edc5",
   "metadata": {},
   "outputs": [
    {
     "name": "stdout",
     "output_type": "stream",
     "text": [
      "==================================================\n",
      "Kami telah memiliki angka, silakan tebak!\n",
      "==================================================\n",
      "Masukan angka :10\n",
      "Kurang tepat, angka lebih kecil dari tebakan\n",
      "Masukan angka :5\n",
      "Kurang tepat, angka lebih besar dari tebakan\n",
      "Masukan angka :4\n",
      "Kurang tepat, angka lebih besar dari tebakan\n",
      "Masukan angka :3\n",
      "Kurang tepat, angka lebih besar dari tebakan\n",
      "Masukan angka :2\n",
      "Kurang tepat, angka lebih besar dari tebakan\n",
      "Masukan angka :1\n",
      "Kurang tepat, angka lebih besar dari tebakan\n",
      "Masukan angka :5\n",
      "Kurang tepat, angka lebih besar dari tebakan\n",
      "Masukan angka :1\n",
      "Kurang tepat, angka lebih besar dari tebakan\n",
      "Masukan angka :2\n",
      "Kurang tepat, angka lebih besar dari tebakan\n",
      "Masukan angka :3\n",
      "Kurang tepat, angka lebih besar dari tebakan\n",
      "Masukan angka :4\n",
      "Kurang tepat, angka lebih besar dari tebakan\n",
      "Masukan angka :5\n",
      "Kurang tepat, angka lebih besar dari tebakan\n",
      "Masukan angka :6\n",
      "Kurang tepat, angka lebih besar dari tebakan\n",
      "Masukan angka :7\n",
      "Kurang tepat, angka lebih besar dari tebakan\n",
      "Masukan angka :8\n",
      "Kurang tepat, angka lebih besar dari tebakan\n",
      "Masukan angka :9\n",
      "Selamat, jawaban anda benar!\n"
     ]
    }
   ],
   "source": [
    "# Membuat inputan tembak angka\n",
    "print(\"=\"*50)\n",
    "print('Kami telah memiliki angka, silakan tebak!')\n",
    "print(\"=\"*50)\n",
    "\n",
    "# Asssign angka random dari komputer\n",
    "import random\n",
    "tebakan = random.randint(3, 9)\n",
    "\n",
    "# Membuat logika percabangan\n",
    "while True:\n",
    "    angka = int(input('Masukan angka :')) # Angka input dibuat didalam while agar kondisi berulang hingga tebakan benar\n",
    "    \n",
    "    if angka == tebakan :\n",
    "        print('Selamat, jawaban anda benar!')\n",
    "        break # saat angka == tebakan menjadi True, maka kondisi akan stop\n",
    "    if angka > tebakan :\n",
    "        print('Kurang tepat, angka lebih kecil dari tebakan')\n",
    "    else :\n",
    "        print('Kurang tepat, angka lebih besar dari tebakan')"
   ]
  },
  {
   "cell_type": "code",
   "execution_count": null,
   "id": "73c712f4",
   "metadata": {},
   "outputs": [],
   "source": []
  }
 ],
 "metadata": {
  "kernelspec": {
   "display_name": "Python 3 (ipykernel)",
   "language": "python",
   "name": "python3"
  },
  "language_info": {
   "codemirror_mode": {
    "name": "ipython",
    "version": 3
   },
   "file_extension": ".py",
   "mimetype": "text/x-python",
   "name": "python",
   "nbconvert_exporter": "python",
   "pygments_lexer": "ipython3",
   "version": "3.9.7"
  }
 },
 "nbformat": 4,
 "nbformat_minor": 5
}
