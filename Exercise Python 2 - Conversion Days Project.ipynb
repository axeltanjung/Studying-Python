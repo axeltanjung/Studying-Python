{
 "cells": [
  {
   "cell_type": "markdown",
   "id": "d46f746d",
   "metadata": {},
   "source": [
    "## TechWorld with Nana"
   ]
  },
  {
   "cell_type": "markdown",
   "id": "2534ce9a",
   "metadata": {},
   "source": [
    "https://www.youtube.com/watch?v=t8pPdKYpowI"
   ]
  },
  {
   "cell_type": "markdown",
   "id": "bc548679",
   "metadata": {},
   "source": [
    "### Course Overview\n",
    "1. Basic Building Blocks of Programming\n",
    "- work with strings, numbers, booleans\n",
    "- work with list, sets, dictionaries\n",
    "- variables and functions\n",
    "- accepting user input\n",
    "- input validation with conditionals (if/else)\n",
    "- error handling with try/except\n",
    "- looping: for loop, while loop\n",
    "2. Modules\n",
    "- write own modules\n",
    "- use built-in python modules\n",
    "3. Project: Countdown App\n",
    "- work with datetime module\n",
    "4. Packages, PyPI & pip\n",
    "5. Project : Automation with Python\n",
    "6. OOP - Classes and Objects\n",
    "7. Project: API Request"
   ]
  },
  {
   "cell_type": "markdown",
   "id": "1e56f3a9",
   "metadata": {},
   "source": [
    "### Python is a programming language\n",
    "1. Easy to learn\n",
    "- simple syntax\n",
    "- easy to setup\n",
    "2. Large ecosystem\n",
    "- many libraries\n",
    "- large community\n",
    "3. Flexible\n",
    "- you're not limited to language spesifics"
   ]
  },
  {
   "cell_type": "markdown",
   "id": "3a615def",
   "metadata": {},
   "source": [
    "### What Python is used for?\n",
    "1. Web Development --> Djago, Flask\n",
    "2. Data Science, Machine Learning, Artificial Intelligence\n",
    "3. Web Scrapping\n",
    "4. Automation \n",
    "- (Automate DevOps tasks (CI/CD) Pipeline)\n",
    "- Automate general tasks\n",
    "- Better alternative : Mobile Development, Game Development, Desktop Dev."
   ]
  },
  {
   "cell_type": "code",
   "execution_count": 21,
   "id": "104cdfe7",
   "metadata": {},
   "outputs": [
    {
     "name": "stdout",
     "output_type": "stream",
     "text": [
      "20 days are 28800 minutes\n",
      "20 days are 480 hours\n",
      "35 days are 840 hours\n",
      "50 days are 1200 hours\n",
      "110 days are 2640 hours\n",
      "25 days are 600 hours\n",
      "Awasome!\n",
      "All good!\n",
      "25 days are 600 hours\n",
      "Looks Good!\n",
      "All good!\n",
      "hours\n",
      "25\n"
     ]
    }
   ],
   "source": [
    "#String Concatination\n",
    "calculation_to_unit = 24\n",
    "name_of_unit = \"hours\"\n",
    "\n",
    "print(\"20 days are \"+str(20 * 24* 60)+\" minutes\")\n",
    "print(f\"20 days are {20 * calculation_to_unit} {name_of_unit}\")\n",
    "print(f\"35 days are {35 * calculation_to_unit} {name_of_unit}\")\n",
    "print(f\"50 days are {50 * calculation_to_unit} {name_of_unit}\")\n",
    "print(f\"110 days are {110 * calculation_to_unit} {name_of_unit}\")\n",
    "\n",
    "def days_to_units(num_of_days, custom_massage):\n",
    "        print(f\"{num_of_days} days are {num_of_days * calculation_to_unit} {name_of_unit}\")\n",
    "        print(custom_massage)\n",
    "        print(\"All good!\")\n",
    "        \n",
    "def scope_check(num_of_days):\n",
    "    my_var = \"variable inside function\" #local variabel\n",
    "    print(name_of_unit)   #global variabel\n",
    "    print(num_of_days)    #local variabel\n",
    "    \n",
    "days_to_units(25, \"Awasome!\")\n",
    "days_to_units(25, \"Looks Good!\")\n",
    "scope_check(25)"
   ]
  },
  {
   "cell_type": "code",
   "execution_count": 137,
   "id": "f82df07a",
   "metadata": {
    "scrolled": true
   },
   "outputs": [
    {
     "name": "stdout",
     "output_type": "stream",
     "text": [
      "Hey user, enter number of days and conversion unit!\n",
      "10:hours\n",
      "['10', 'hours']\n",
      "{'days': '10', 'unit': 'hours'}\n",
      "<class 'dict'>\n",
      "10 days are 240 hours\n",
      "Hey user, enter number of days and conversion unit!\n",
      "exit\n",
      "['exit']\n"
     ]
    },
    {
     "ename": "IndexError",
     "evalue": "list index out of range",
     "output_type": "error",
     "traceback": [
      "\u001b[1;31m---------------------------------------------------------------------------\u001b[0m",
      "\u001b[1;31mIndexError\u001b[0m                                Traceback (most recent call last)",
      "\u001b[1;32m~\\AppData\\Local\\Temp/ipykernel_6192/314210207.py\u001b[0m in \u001b[0;36m<module>\u001b[1;34m\u001b[0m\n\u001b[0;32m     29\u001b[0m     \u001b[0mdays_and_unit\u001b[0m \u001b[1;33m=\u001b[0m \u001b[0muser_input\u001b[0m\u001b[1;33m.\u001b[0m\u001b[0msplit\u001b[0m\u001b[1;33m(\u001b[0m\u001b[1;34m':'\u001b[0m\u001b[1;33m)\u001b[0m\u001b[1;33m\u001b[0m\u001b[1;33m\u001b[0m\u001b[0m\n\u001b[0;32m     30\u001b[0m     \u001b[0mprint\u001b[0m\u001b[1;33m(\u001b[0m\u001b[0mdays_and_unit\u001b[0m\u001b[1;33m)\u001b[0m\u001b[1;33m\u001b[0m\u001b[1;33m\u001b[0m\u001b[0m\n\u001b[1;32m---> 31\u001b[1;33m     \u001b[0mdays_and_unit_dictionary\u001b[0m \u001b[1;33m=\u001b[0m \u001b[1;33m{\u001b[0m\u001b[1;34m'days'\u001b[0m\u001b[1;33m:\u001b[0m\u001b[0mdays_and_unit\u001b[0m\u001b[1;33m[\u001b[0m\u001b[1;36m0\u001b[0m\u001b[1;33m]\u001b[0m\u001b[1;33m,\u001b[0m\u001b[1;34m\"unit\"\u001b[0m\u001b[1;33m:\u001b[0m\u001b[0mdays_and_unit\u001b[0m\u001b[1;33m[\u001b[0m\u001b[1;36m1\u001b[0m\u001b[1;33m]\u001b[0m\u001b[1;33m}\u001b[0m\u001b[1;33m\u001b[0m\u001b[1;33m\u001b[0m\u001b[0m\n\u001b[0m\u001b[0;32m     32\u001b[0m     \u001b[0mprint\u001b[0m\u001b[1;33m(\u001b[0m\u001b[0mdays_and_unit_dictionary\u001b[0m\u001b[1;33m)\u001b[0m\u001b[1;33m\u001b[0m\u001b[1;33m\u001b[0m\u001b[0m\n\u001b[0;32m     33\u001b[0m     \u001b[0mprint\u001b[0m\u001b[1;33m(\u001b[0m\u001b[0mtype\u001b[0m\u001b[1;33m(\u001b[0m\u001b[0mdays_and_unit_dictionary\u001b[0m\u001b[1;33m)\u001b[0m\u001b[1;33m)\u001b[0m\u001b[1;33m\u001b[0m\u001b[1;33m\u001b[0m\u001b[0m\n",
      "\u001b[1;31mIndexError\u001b[0m: list index out of range"
     ]
    }
   ],
   "source": [
    "def day_unit(num_of_days, conversion_unit):\n",
    "    if conversion_unit == \"hours\":\n",
    "        return f\"{num_of_days} days are {num_of_days*24} hours\"\n",
    "    elif conversion_unit == \"minutes\":\n",
    "        return f\"{num_of_days} days are {num_of_days*24*60} minutes\"\n",
    "    else:\n",
    "        return \"unsupported unit\"\n",
    "    \n",
    "def validate_and_execute():\n",
    "    try:\n",
    "    #if user_input.isdigit():\n",
    "        user_input_number = int(days_and_unit_dictionary['days'])\n",
    "        \n",
    "        # we want to do conversion only for positive integers\n",
    "        if user_input_number > 0:\n",
    "            calculated_value = day_unit(user_input_number, days_and_unit_dictionary['unit'])\n",
    "            print(calculated_value)\n",
    "        elif user_input_number == 0:\n",
    "            print(\"You entered a 0, please enter positive number\")\n",
    "        else:\n",
    "            print('Negative value')\n",
    "    except ValueError:\n",
    "    #else:\n",
    "        print(\"You're input is not a number. Dont ruin my program\")    \n",
    "\n",
    "user_input = \"\"\n",
    "while user_input!=\"exit\":\n",
    "    user_input = input('Hey user, enter number of days and conversion unit!\\n')\n",
    "    days_and_unit = user_input.split(':')\n",
    "    print(days_and_unit)\n",
    "    days_and_unit_dictionary = {'days':days_and_unit[0],\"unit\":days_and_unit[1]}\n",
    "    print(days_and_unit_dictionary)\n",
    "    print(type(days_and_unit_dictionary))\n",
    "    validate_and_execute() \n",
    "    \n",
    "    #modifikasi menjadi list menjadi set\n",
    "    '''list_of_days = user_input.split(\", \")\n",
    "    print(list_of_days)\n",
    "    print(set(list_of_days))\n",
    "    \n",
    "    print(type(list_of_days))\n",
    "    print(type(set(list_of_days)))\n",
    "    \n",
    "    for num_of_days_element in set(user_input.split(\", \")):\n",
    "        validate_and_execute()'''\n",
    "        \n",
    "\"\"\"Built in function\n",
    "1. print()\n",
    "2. input()\n",
    "3. set()\n",
    "4. int()\n",
    "Kind of data type:\n",
    "1. string\n",
    "2. integer\n",
    "3. booelan\n",
    "4. list\n",
    "5. sets\n",
    "6. dictionary\n",
    "\"\"\""
   ]
  },
  {
   "cell_type": "code",
   "execution_count": 127,
   "id": "a000e768",
   "metadata": {},
   "outputs": [
    {
     "name": "stdout",
     "output_type": "stream",
     "text": [
      "March\n",
      "April\n",
      "\n",
      "February\n",
      "March\n",
      "January\n",
      "{'February', 'April', 'March', 'January'}\n",
      "{'February', 'April', 'March'}\n"
     ]
    },
    {
     "data": {
      "text/plain": [
       "['2,', '3']"
      ]
     },
     "execution_count": 127,
     "metadata": {},
     "output_type": "execute_result"
    }
   ],
   "source": [
    "#Create list\n",
    "my_list = [\"January\", \"February\", \"March\"]\n",
    "print(my_list[2])\n",
    "my_list.append(\"April\")\n",
    "print(my_list[3]+'\\n')\n",
    "\n",
    "#Create sets --. Cannot referred to by index, items cannot be change, do not have a defined order!\n",
    "my_set = {\"January\", \"February\", \"March\", \"January\"}\n",
    "#Access item only via loop!\n",
    "for element in my_set:\n",
    "    print(element)\n",
    "    \n",
    "#Add element to a sets -- Ordered is random\n",
    "my_set.add(\"April\")\n",
    "print(my_set)\n",
    "\n",
    "#Remove element to a sets\n",
    "my_set.remove(\"January\")\n",
    "print(my_set)\n",
    "\n",
    "\"2, 3\".split()"
   ]
  }
 ],
 "metadata": {
  "kernelspec": {
   "display_name": "Python 3 (ipykernel)",
   "language": "python",
   "name": "python3"
  },
  "language_info": {
   "codemirror_mode": {
    "name": "ipython",
    "version": 3
   },
   "file_extension": ".py",
   "mimetype": "text/x-python",
   "name": "python",
   "nbconvert_exporter": "python",
   "pygments_lexer": "ipython3",
   "version": "3.9.7"
  }
 },
 "nbformat": 4,
 "nbformat_minor": 5
}
